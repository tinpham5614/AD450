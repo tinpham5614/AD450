{
 "cells": [
  {
   "cell_type": "markdown",
   "metadata": {},
   "source": [
    "## Electric Vehicle Population Data\n",
    "- This dataset shows the Battery Electric Vehicles (BEVs) and Plug-in Hybrid Electric Vehicles (PHEVs) that are currently registered through Washington State Department of Licensing (DOL).\n",
    "- Sources: [**https://catalog.data.gov/dataset/electric-vehicle-population-data**](https://catalog.data.gov/dataset/electric-vehicle-population-data)\n",
    "- Variables:\n",
    "    - Location (County, City, State, Postal Code)\n",
    "    - Vehicle (Make, Model, EV Type, etc.)\n",
    "- I find this dataset interesting because I want to observe the advancements in EV technology and the effectiveness of the trend in Washington State."
   ]
  },
  {
   "cell_type": "code",
   "execution_count": 1,
   "metadata": {},
   "outputs": [],
   "source": [
    "import pandas as pd\n",
    "import plotly.express as px\n",
    "import plotly.graph_objects as go"
   ]
  },
  {
   "cell_type": "code",
   "execution_count": 2,
   "metadata": {},
   "outputs": [
    {
     "data": {
      "text/html": [
       "<div>\n",
       "<style scoped>\n",
       "    .dataframe tbody tr th:only-of-type {\n",
       "        vertical-align: middle;\n",
       "    }\n",
       "\n",
       "    .dataframe tbody tr th {\n",
       "        vertical-align: top;\n",
       "    }\n",
       "\n",
       "    .dataframe thead th {\n",
       "        text-align: right;\n",
       "    }\n",
       "</style>\n",
       "<table border=\"1\" class=\"dataframe\">\n",
       "  <thead>\n",
       "    <tr style=\"text-align: right;\">\n",
       "      <th></th>\n",
       "      <th>VIN (1-10)</th>\n",
       "      <th>County</th>\n",
       "      <th>City</th>\n",
       "      <th>State</th>\n",
       "      <th>Postal Code</th>\n",
       "      <th>Model Year</th>\n",
       "      <th>Make</th>\n",
       "      <th>Model</th>\n",
       "      <th>Electric Vehicle Type</th>\n",
       "      <th>Clean Alternative Fuel Vehicle (CAFV) Eligibility</th>\n",
       "      <th>Electric Range</th>\n",
       "      <th>Base MSRP</th>\n",
       "      <th>Legislative District</th>\n",
       "      <th>DOL Vehicle ID</th>\n",
       "      <th>Vehicle Location</th>\n",
       "      <th>Electric Utility</th>\n",
       "      <th>2020 Census Tract</th>\n",
       "    </tr>\n",
       "  </thead>\n",
       "  <tbody>\n",
       "    <tr>\n",
       "      <th>0</th>\n",
       "      <td>5UXKT0C59G</td>\n",
       "      <td>Yakima</td>\n",
       "      <td>Zillah</td>\n",
       "      <td>WA</td>\n",
       "      <td>98953.0</td>\n",
       "      <td>2016</td>\n",
       "      <td>BMW</td>\n",
       "      <td>X5</td>\n",
       "      <td>Plug-in Hybrid Electric Vehicle (PHEV)</td>\n",
       "      <td>Not eligible due to low battery range</td>\n",
       "      <td>14.0</td>\n",
       "      <td>0.0</td>\n",
       "      <td>15.0</td>\n",
       "      <td>206822717</td>\n",
       "      <td>POINT (-120.26317 46.40556)</td>\n",
       "      <td>PACIFICORP</td>\n",
       "      <td>5.307700e+10</td>\n",
       "    </tr>\n",
       "    <tr>\n",
       "      <th>1</th>\n",
       "      <td>5YJ3E1EA2J</td>\n",
       "      <td>Snohomish</td>\n",
       "      <td>Edmonds</td>\n",
       "      <td>WA</td>\n",
       "      <td>98020.0</td>\n",
       "      <td>2018</td>\n",
       "      <td>TESLA</td>\n",
       "      <td>MODEL 3</td>\n",
       "      <td>Battery Electric Vehicle (BEV)</td>\n",
       "      <td>Clean Alternative Fuel Vehicle Eligible</td>\n",
       "      <td>215.0</td>\n",
       "      <td>0.0</td>\n",
       "      <td>21.0</td>\n",
       "      <td>137721636</td>\n",
       "      <td>POINT (-122.37507 47.80807)</td>\n",
       "      <td>PUGET SOUND ENERGY INC</td>\n",
       "      <td>5.306105e+10</td>\n",
       "    </tr>\n",
       "    <tr>\n",
       "      <th>2</th>\n",
       "      <td>1G1RE6E4XE</td>\n",
       "      <td>Kitsap</td>\n",
       "      <td>Port Orchard</td>\n",
       "      <td>WA</td>\n",
       "      <td>98367.0</td>\n",
       "      <td>2014</td>\n",
       "      <td>CHEVROLET</td>\n",
       "      <td>VOLT</td>\n",
       "      <td>Plug-in Hybrid Electric Vehicle (PHEV)</td>\n",
       "      <td>Clean Alternative Fuel Vehicle Eligible</td>\n",
       "      <td>38.0</td>\n",
       "      <td>0.0</td>\n",
       "      <td>26.0</td>\n",
       "      <td>197718468</td>\n",
       "      <td>POINT (-122.6847073 47.50524)</td>\n",
       "      <td>PUGET SOUND ENERGY INC</td>\n",
       "      <td>5.303509e+10</td>\n",
       "    </tr>\n",
       "    <tr>\n",
       "      <th>3</th>\n",
       "      <td>2C4RC1L76M</td>\n",
       "      <td>Skagit</td>\n",
       "      <td>Bow</td>\n",
       "      <td>WA</td>\n",
       "      <td>98232.0</td>\n",
       "      <td>2021</td>\n",
       "      <td>CHRYSLER</td>\n",
       "      <td>PACIFICA</td>\n",
       "      <td>Plug-in Hybrid Electric Vehicle (PHEV)</td>\n",
       "      <td>Clean Alternative Fuel Vehicle Eligible</td>\n",
       "      <td>32.0</td>\n",
       "      <td>0.0</td>\n",
       "      <td>40.0</td>\n",
       "      <td>256274308</td>\n",
       "      <td>POINT (-122.440636 48.5613885)</td>\n",
       "      <td>PUGET SOUND ENERGY INC</td>\n",
       "      <td>5.305795e+10</td>\n",
       "    </tr>\n",
       "    <tr>\n",
       "      <th>4</th>\n",
       "      <td>5YJ3E1EA2J</td>\n",
       "      <td>Thurston</td>\n",
       "      <td>Olympia</td>\n",
       "      <td>WA</td>\n",
       "      <td>98513.0</td>\n",
       "      <td>2018</td>\n",
       "      <td>TESLA</td>\n",
       "      <td>MODEL 3</td>\n",
       "      <td>Battery Electric Vehicle (BEV)</td>\n",
       "      <td>Clean Alternative Fuel Vehicle Eligible</td>\n",
       "      <td>215.0</td>\n",
       "      <td>0.0</td>\n",
       "      <td>2.0</td>\n",
       "      <td>259176578</td>\n",
       "      <td>POINT (-122.817545 46.98876)</td>\n",
       "      <td>PUGET SOUND ENERGY INC</td>\n",
       "      <td>5.306701e+10</td>\n",
       "    </tr>\n",
       "  </tbody>\n",
       "</table>\n",
       "</div>"
      ],
      "text/plain": [
       "   VIN (1-10)     County          City State  Postal Code  Model Year  \\\n",
       "0  5UXKT0C59G     Yakima        Zillah    WA      98953.0        2016   \n",
       "1  5YJ3E1EA2J  Snohomish       Edmonds    WA      98020.0        2018   \n",
       "2  1G1RE6E4XE     Kitsap  Port Orchard    WA      98367.0        2014   \n",
       "3  2C4RC1L76M     Skagit           Bow    WA      98232.0        2021   \n",
       "4  5YJ3E1EA2J   Thurston       Olympia    WA      98513.0        2018   \n",
       "\n",
       "        Make     Model                   Electric Vehicle Type  \\\n",
       "0        BMW        X5  Plug-in Hybrid Electric Vehicle (PHEV)   \n",
       "1      TESLA   MODEL 3          Battery Electric Vehicle (BEV)   \n",
       "2  CHEVROLET      VOLT  Plug-in Hybrid Electric Vehicle (PHEV)   \n",
       "3   CHRYSLER  PACIFICA  Plug-in Hybrid Electric Vehicle (PHEV)   \n",
       "4      TESLA   MODEL 3          Battery Electric Vehicle (BEV)   \n",
       "\n",
       "  Clean Alternative Fuel Vehicle (CAFV) Eligibility  Electric Range  \\\n",
       "0             Not eligible due to low battery range            14.0   \n",
       "1           Clean Alternative Fuel Vehicle Eligible           215.0   \n",
       "2           Clean Alternative Fuel Vehicle Eligible            38.0   \n",
       "3           Clean Alternative Fuel Vehicle Eligible            32.0   \n",
       "4           Clean Alternative Fuel Vehicle Eligible           215.0   \n",
       "\n",
       "   Base MSRP  Legislative District  DOL Vehicle ID  \\\n",
       "0        0.0                  15.0       206822717   \n",
       "1        0.0                  21.0       137721636   \n",
       "2        0.0                  26.0       197718468   \n",
       "3        0.0                  40.0       256274308   \n",
       "4        0.0                   2.0       259176578   \n",
       "\n",
       "                 Vehicle Location        Electric Utility  2020 Census Tract  \n",
       "0     POINT (-120.26317 46.40556)              PACIFICORP       5.307700e+10  \n",
       "1     POINT (-122.37507 47.80807)  PUGET SOUND ENERGY INC       5.306105e+10  \n",
       "2   POINT (-122.6847073 47.50524)  PUGET SOUND ENERGY INC       5.303509e+10  \n",
       "3  POINT (-122.440636 48.5613885)  PUGET SOUND ENERGY INC       5.305795e+10  \n",
       "4    POINT (-122.817545 46.98876)  PUGET SOUND ENERGY INC       5.306701e+10  "
      ]
     },
     "execution_count": 2,
     "metadata": {},
     "output_type": "execute_result"
    }
   ],
   "source": [
    "file_path = 'data/Electric_Vehicle_Population_Data.csv'\n",
    "e_vehicle_df = pd.read_csv(file_path)\n",
    "\n",
    "# Print data\n",
    "e_vehicle_df.head()"
   ]
  },
  {
   "cell_type": "code",
   "execution_count": 3,
   "metadata": {},
   "outputs": [],
   "source": [
    "# Cleaning dataset by dropping null values\n",
    "clean_e_vehicle_df = e_vehicle_df.dropna()"
   ]
  },
  {
   "cell_type": "code",
   "execution_count": 4,
   "metadata": {},
   "outputs": [
    {
     "data": {
      "text/plain": [
       "VIN (1-10)                                           0\n",
       "County                                               0\n",
       "City                                                 0\n",
       "State                                                0\n",
       "Postal Code                                          0\n",
       "Model Year                                           0\n",
       "Make                                                 0\n",
       "Model                                                0\n",
       "Electric Vehicle Type                                0\n",
       "Clean Alternative Fuel Vehicle (CAFV) Eligibility    0\n",
       "Electric Range                                       0\n",
       "Base MSRP                                            0\n",
       "Legislative District                                 0\n",
       "DOL Vehicle ID                                       0\n",
       "Vehicle Location                                     0\n",
       "Electric Utility                                     0\n",
       "2020 Census Tract                                    0\n",
       "dtype: int64"
      ]
     },
     "execution_count": 4,
     "metadata": {},
     "output_type": "execute_result"
    }
   ],
   "source": [
    "# Verify the data after cleaning\n",
    "clean_e_vehicle_df.isnull().sum()"
   ]
  },
  {
   "cell_type": "markdown",
   "metadata": {},
   "source": [
    "# Bubble Chart"
   ]
  },
  {
   "cell_type": "code",
   "execution_count": 5,
   "metadata": {},
   "outputs": [
    {
     "data": {
      "application/vnd.plotly.v1+json": {
       "config": {
        "plotlyServerURL": "https://plot.ly"
       },
       "data": [
        {
         "hovertemplate": "<b>%{hovertext}</b><br><br>Year=%{x}<br>Count=%{marker.color}<extra></extra>",
         "hovertext": [
          1,
          1,
          2,
          7,
          1,
          1,
          14,
          19,
          620,
          1290,
          3536,
          2772,
          3804,
          4400,
          6882,
          11301,
          8669,
          9274,
          15050,
          21916,
          44350,
          4145
         ],
         "legendgroup": "",
         "marker": {
          "color": [
           1,
           1,
           2,
           7,
           1,
           1,
           14,
           19,
           620,
           1290,
           3536,
           2772,
           3804,
           4400,
           6882,
           11301,
           8669,
           9274,
           15050,
           21916,
           44350,
           4145
          ],
          "coloraxis": "coloraxis",
          "size": [
           1,
           1,
           2,
           7,
           1,
           1,
           14,
           19,
           620,
           1290,
           3536,
           2772,
           3804,
           4400,
           6882,
           11301,
           8669,
           9274,
           15050,
           21916,
           44350,
           4145
          ],
          "sizemode": "area",
          "sizeref": 12.319444444444445,
          "symbol": "circle"
         },
         "mode": "markers",
         "name": "",
         "orientation": "v",
         "showlegend": false,
         "type": "scatter",
         "x": [
          1997,
          1998,
          1999,
          2000,
          2002,
          2003,
          2008,
          2010,
          2011,
          2012,
          2013,
          2014,
          2015,
          2016,
          2017,
          2018,
          2019,
          2020,
          2021,
          2022,
          2023,
          2024
         ],
         "xaxis": "x",
         "y": [
          1,
          1,
          2,
          7,
          1,
          1,
          14,
          19,
          620,
          1290,
          3536,
          2772,
          3804,
          4400,
          6882,
          11301,
          8669,
          9274,
          15050,
          21916,
          44350,
          4145
         ],
         "yaxis": "y"
        }
       ],
       "layout": {
        "coloraxis": {
         "colorbar": {
          "title": {
           "text": "Count"
          }
         },
         "colorscale": [
          [
           0,
           "#0d0887"
          ],
          [
           0.1111111111111111,
           "#46039f"
          ],
          [
           0.2222222222222222,
           "#7201a8"
          ],
          [
           0.3333333333333333,
           "#9c179e"
          ],
          [
           0.4444444444444444,
           "#bd3786"
          ],
          [
           0.5555555555555556,
           "#d8576b"
          ],
          [
           0.6666666666666666,
           "#ed7953"
          ],
          [
           0.7777777777777778,
           "#fb9f3a"
          ],
          [
           0.8888888888888888,
           "#fdca26"
          ],
          [
           1,
           "#f0f921"
          ]
         ]
        },
        "legend": {
         "itemsizing": "constant",
         "tracegroupgap": 0
        },
        "margin": {
         "t": 60
        },
        "template": {
         "data": {
          "bar": [
           {
            "error_x": {
             "color": "#2a3f5f"
            },
            "error_y": {
             "color": "#2a3f5f"
            },
            "marker": {
             "line": {
              "color": "#E5ECF6",
              "width": 0.5
             },
             "pattern": {
              "fillmode": "overlay",
              "size": 10,
              "solidity": 0.2
             }
            },
            "type": "bar"
           }
          ],
          "barpolar": [
           {
            "marker": {
             "line": {
              "color": "#E5ECF6",
              "width": 0.5
             },
             "pattern": {
              "fillmode": "overlay",
              "size": 10,
              "solidity": 0.2
             }
            },
            "type": "barpolar"
           }
          ],
          "carpet": [
           {
            "aaxis": {
             "endlinecolor": "#2a3f5f",
             "gridcolor": "white",
             "linecolor": "white",
             "minorgridcolor": "white",
             "startlinecolor": "#2a3f5f"
            },
            "baxis": {
             "endlinecolor": "#2a3f5f",
             "gridcolor": "white",
             "linecolor": "white",
             "minorgridcolor": "white",
             "startlinecolor": "#2a3f5f"
            },
            "type": "carpet"
           }
          ],
          "choropleth": [
           {
            "colorbar": {
             "outlinewidth": 0,
             "ticks": ""
            },
            "type": "choropleth"
           }
          ],
          "contour": [
           {
            "colorbar": {
             "outlinewidth": 0,
             "ticks": ""
            },
            "colorscale": [
             [
              0,
              "#0d0887"
             ],
             [
              0.1111111111111111,
              "#46039f"
             ],
             [
              0.2222222222222222,
              "#7201a8"
             ],
             [
              0.3333333333333333,
              "#9c179e"
             ],
             [
              0.4444444444444444,
              "#bd3786"
             ],
             [
              0.5555555555555556,
              "#d8576b"
             ],
             [
              0.6666666666666666,
              "#ed7953"
             ],
             [
              0.7777777777777778,
              "#fb9f3a"
             ],
             [
              0.8888888888888888,
              "#fdca26"
             ],
             [
              1,
              "#f0f921"
             ]
            ],
            "type": "contour"
           }
          ],
          "contourcarpet": [
           {
            "colorbar": {
             "outlinewidth": 0,
             "ticks": ""
            },
            "type": "contourcarpet"
           }
          ],
          "heatmap": [
           {
            "colorbar": {
             "outlinewidth": 0,
             "ticks": ""
            },
            "colorscale": [
             [
              0,
              "#0d0887"
             ],
             [
              0.1111111111111111,
              "#46039f"
             ],
             [
              0.2222222222222222,
              "#7201a8"
             ],
             [
              0.3333333333333333,
              "#9c179e"
             ],
             [
              0.4444444444444444,
              "#bd3786"
             ],
             [
              0.5555555555555556,
              "#d8576b"
             ],
             [
              0.6666666666666666,
              "#ed7953"
             ],
             [
              0.7777777777777778,
              "#fb9f3a"
             ],
             [
              0.8888888888888888,
              "#fdca26"
             ],
             [
              1,
              "#f0f921"
             ]
            ],
            "type": "heatmap"
           }
          ],
          "heatmapgl": [
           {
            "colorbar": {
             "outlinewidth": 0,
             "ticks": ""
            },
            "colorscale": [
             [
              0,
              "#0d0887"
             ],
             [
              0.1111111111111111,
              "#46039f"
             ],
             [
              0.2222222222222222,
              "#7201a8"
             ],
             [
              0.3333333333333333,
              "#9c179e"
             ],
             [
              0.4444444444444444,
              "#bd3786"
             ],
             [
              0.5555555555555556,
              "#d8576b"
             ],
             [
              0.6666666666666666,
              "#ed7953"
             ],
             [
              0.7777777777777778,
              "#fb9f3a"
             ],
             [
              0.8888888888888888,
              "#fdca26"
             ],
             [
              1,
              "#f0f921"
             ]
            ],
            "type": "heatmapgl"
           }
          ],
          "histogram": [
           {
            "marker": {
             "pattern": {
              "fillmode": "overlay",
              "size": 10,
              "solidity": 0.2
             }
            },
            "type": "histogram"
           }
          ],
          "histogram2d": [
           {
            "colorbar": {
             "outlinewidth": 0,
             "ticks": ""
            },
            "colorscale": [
             [
              0,
              "#0d0887"
             ],
             [
              0.1111111111111111,
              "#46039f"
             ],
             [
              0.2222222222222222,
              "#7201a8"
             ],
             [
              0.3333333333333333,
              "#9c179e"
             ],
             [
              0.4444444444444444,
              "#bd3786"
             ],
             [
              0.5555555555555556,
              "#d8576b"
             ],
             [
              0.6666666666666666,
              "#ed7953"
             ],
             [
              0.7777777777777778,
              "#fb9f3a"
             ],
             [
              0.8888888888888888,
              "#fdca26"
             ],
             [
              1,
              "#f0f921"
             ]
            ],
            "type": "histogram2d"
           }
          ],
          "histogram2dcontour": [
           {
            "colorbar": {
             "outlinewidth": 0,
             "ticks": ""
            },
            "colorscale": [
             [
              0,
              "#0d0887"
             ],
             [
              0.1111111111111111,
              "#46039f"
             ],
             [
              0.2222222222222222,
              "#7201a8"
             ],
             [
              0.3333333333333333,
              "#9c179e"
             ],
             [
              0.4444444444444444,
              "#bd3786"
             ],
             [
              0.5555555555555556,
              "#d8576b"
             ],
             [
              0.6666666666666666,
              "#ed7953"
             ],
             [
              0.7777777777777778,
              "#fb9f3a"
             ],
             [
              0.8888888888888888,
              "#fdca26"
             ],
             [
              1,
              "#f0f921"
             ]
            ],
            "type": "histogram2dcontour"
           }
          ],
          "mesh3d": [
           {
            "colorbar": {
             "outlinewidth": 0,
             "ticks": ""
            },
            "type": "mesh3d"
           }
          ],
          "parcoords": [
           {
            "line": {
             "colorbar": {
              "outlinewidth": 0,
              "ticks": ""
             }
            },
            "type": "parcoords"
           }
          ],
          "pie": [
           {
            "automargin": true,
            "type": "pie"
           }
          ],
          "scatter": [
           {
            "fillpattern": {
             "fillmode": "overlay",
             "size": 10,
             "solidity": 0.2
            },
            "type": "scatter"
           }
          ],
          "scatter3d": [
           {
            "line": {
             "colorbar": {
              "outlinewidth": 0,
              "ticks": ""
             }
            },
            "marker": {
             "colorbar": {
              "outlinewidth": 0,
              "ticks": ""
             }
            },
            "type": "scatter3d"
           }
          ],
          "scattercarpet": [
           {
            "marker": {
             "colorbar": {
              "outlinewidth": 0,
              "ticks": ""
             }
            },
            "type": "scattercarpet"
           }
          ],
          "scattergeo": [
           {
            "marker": {
             "colorbar": {
              "outlinewidth": 0,
              "ticks": ""
             }
            },
            "type": "scattergeo"
           }
          ],
          "scattergl": [
           {
            "marker": {
             "colorbar": {
              "outlinewidth": 0,
              "ticks": ""
             }
            },
            "type": "scattergl"
           }
          ],
          "scattermapbox": [
           {
            "marker": {
             "colorbar": {
              "outlinewidth": 0,
              "ticks": ""
             }
            },
            "type": "scattermapbox"
           }
          ],
          "scatterpolar": [
           {
            "marker": {
             "colorbar": {
              "outlinewidth": 0,
              "ticks": ""
             }
            },
            "type": "scatterpolar"
           }
          ],
          "scatterpolargl": [
           {
            "marker": {
             "colorbar": {
              "outlinewidth": 0,
              "ticks": ""
             }
            },
            "type": "scatterpolargl"
           }
          ],
          "scatterternary": [
           {
            "marker": {
             "colorbar": {
              "outlinewidth": 0,
              "ticks": ""
             }
            },
            "type": "scatterternary"
           }
          ],
          "surface": [
           {
            "colorbar": {
             "outlinewidth": 0,
             "ticks": ""
            },
            "colorscale": [
             [
              0,
              "#0d0887"
             ],
             [
              0.1111111111111111,
              "#46039f"
             ],
             [
              0.2222222222222222,
              "#7201a8"
             ],
             [
              0.3333333333333333,
              "#9c179e"
             ],
             [
              0.4444444444444444,
              "#bd3786"
             ],
             [
              0.5555555555555556,
              "#d8576b"
             ],
             [
              0.6666666666666666,
              "#ed7953"
             ],
             [
              0.7777777777777778,
              "#fb9f3a"
             ],
             [
              0.8888888888888888,
              "#fdca26"
             ],
             [
              1,
              "#f0f921"
             ]
            ],
            "type": "surface"
           }
          ],
          "table": [
           {
            "cells": {
             "fill": {
              "color": "#EBF0F8"
             },
             "line": {
              "color": "white"
             }
            },
            "header": {
             "fill": {
              "color": "#C8D4E3"
             },
             "line": {
              "color": "white"
             }
            },
            "type": "table"
           }
          ]
         },
         "layout": {
          "annotationdefaults": {
           "arrowcolor": "#2a3f5f",
           "arrowhead": 0,
           "arrowwidth": 1
          },
          "autotypenumbers": "strict",
          "coloraxis": {
           "colorbar": {
            "outlinewidth": 0,
            "ticks": ""
           }
          },
          "colorscale": {
           "diverging": [
            [
             0,
             "#8e0152"
            ],
            [
             0.1,
             "#c51b7d"
            ],
            [
             0.2,
             "#de77ae"
            ],
            [
             0.3,
             "#f1b6da"
            ],
            [
             0.4,
             "#fde0ef"
            ],
            [
             0.5,
             "#f7f7f7"
            ],
            [
             0.6,
             "#e6f5d0"
            ],
            [
             0.7,
             "#b8e186"
            ],
            [
             0.8,
             "#7fbc41"
            ],
            [
             0.9,
             "#4d9221"
            ],
            [
             1,
             "#276419"
            ]
           ],
           "sequential": [
            [
             0,
             "#0d0887"
            ],
            [
             0.1111111111111111,
             "#46039f"
            ],
            [
             0.2222222222222222,
             "#7201a8"
            ],
            [
             0.3333333333333333,
             "#9c179e"
            ],
            [
             0.4444444444444444,
             "#bd3786"
            ],
            [
             0.5555555555555556,
             "#d8576b"
            ],
            [
             0.6666666666666666,
             "#ed7953"
            ],
            [
             0.7777777777777778,
             "#fb9f3a"
            ],
            [
             0.8888888888888888,
             "#fdca26"
            ],
            [
             1,
             "#f0f921"
            ]
           ],
           "sequentialminus": [
            [
             0,
             "#0d0887"
            ],
            [
             0.1111111111111111,
             "#46039f"
            ],
            [
             0.2222222222222222,
             "#7201a8"
            ],
            [
             0.3333333333333333,
             "#9c179e"
            ],
            [
             0.4444444444444444,
             "#bd3786"
            ],
            [
             0.5555555555555556,
             "#d8576b"
            ],
            [
             0.6666666666666666,
             "#ed7953"
            ],
            [
             0.7777777777777778,
             "#fb9f3a"
            ],
            [
             0.8888888888888888,
             "#fdca26"
            ],
            [
             1,
             "#f0f921"
            ]
           ]
          },
          "colorway": [
           "#636efa",
           "#EF553B",
           "#00cc96",
           "#ab63fa",
           "#FFA15A",
           "#19d3f3",
           "#FF6692",
           "#B6E880",
           "#FF97FF",
           "#FECB52"
          ],
          "font": {
           "color": "#2a3f5f"
          },
          "geo": {
           "bgcolor": "white",
           "lakecolor": "white",
           "landcolor": "#E5ECF6",
           "showlakes": true,
           "showland": true,
           "subunitcolor": "white"
          },
          "hoverlabel": {
           "align": "left"
          },
          "hovermode": "closest",
          "mapbox": {
           "style": "light"
          },
          "paper_bgcolor": "white",
          "plot_bgcolor": "#E5ECF6",
          "polar": {
           "angularaxis": {
            "gridcolor": "white",
            "linecolor": "white",
            "ticks": ""
           },
           "bgcolor": "#E5ECF6",
           "radialaxis": {
            "gridcolor": "white",
            "linecolor": "white",
            "ticks": ""
           }
          },
          "scene": {
           "xaxis": {
            "backgroundcolor": "#E5ECF6",
            "gridcolor": "white",
            "gridwidth": 2,
            "linecolor": "white",
            "showbackground": true,
            "ticks": "",
            "zerolinecolor": "white"
           },
           "yaxis": {
            "backgroundcolor": "#E5ECF6",
            "gridcolor": "white",
            "gridwidth": 2,
            "linecolor": "white",
            "showbackground": true,
            "ticks": "",
            "zerolinecolor": "white"
           },
           "zaxis": {
            "backgroundcolor": "#E5ECF6",
            "gridcolor": "white",
            "gridwidth": 2,
            "linecolor": "white",
            "showbackground": true,
            "ticks": "",
            "zerolinecolor": "white"
           }
          },
          "shapedefaults": {
           "line": {
            "color": "#2a3f5f"
           }
          },
          "ternary": {
           "aaxis": {
            "gridcolor": "white",
            "linecolor": "white",
            "ticks": ""
           },
           "baxis": {
            "gridcolor": "white",
            "linecolor": "white",
            "ticks": ""
           },
           "bgcolor": "#E5ECF6",
           "caxis": {
            "gridcolor": "white",
            "linecolor": "white",
            "ticks": ""
           }
          },
          "title": {
           "x": 0.05
          },
          "xaxis": {
           "automargin": true,
           "gridcolor": "white",
           "linecolor": "white",
           "ticks": "",
           "title": {
            "standoff": 15
           },
           "zerolinecolor": "white",
           "zerolinewidth": 2
          },
          "yaxis": {
           "automargin": true,
           "gridcolor": "white",
           "linecolor": "white",
           "ticks": "",
           "title": {
            "standoff": 15
           },
           "zerolinecolor": "white",
           "zerolinewidth": 2
          }
         }
        },
        "title": {
         "text": "Electric Vehicle Population in Washington State",
         "x": 0.5
        },
        "xaxis": {
         "anchor": "y",
         "domain": [
          0,
          1
         ],
         "title": {
          "text": "Year"
         },
         "type": "log"
        },
        "yaxis": {
         "anchor": "x",
         "domain": [
          0,
          1
         ],
         "title": {
          "text": "Number of Electric Vehicles"
         }
        }
       }
      }
     },
     "metadata": {},
     "output_type": "display_data"
    }
   ],
   "source": [
    "# Convert 'Model Year' to datetime format\n",
    "e_vehicle_by_year = clean_e_vehicle_df.copy()\n",
    "e_vehicle_by_year['Model Year'] = pd.to_datetime(e_vehicle_by_year['Model Year'].astype(str), format='%Y')\n",
    "\n",
    "# Extract the year from the datetime object\n",
    "e_vehicle_by_year.loc[:, 'Year'] = e_vehicle_by_year['Model Year'].dt.year\n",
    "\n",
    "# Group the data by 'Year' and count the number of electric vehicles for each year\n",
    "ev_count_by_year = e_vehicle_by_year.groupby('Year').size()\n",
    "\n",
    "# Reset the index of the dataframe\n",
    "ev_count_by_year = ev_count_by_year.reset_index(name='Count')\n",
    "\n",
    "# Bubble chart\n",
    "fig = px.scatter(ev_count_by_year, x='Year', y='Count', size='Count', color='Count', hover_name='Count', log_x=True, size_max=60)\n",
    "fig.update_layout(xaxis_title='Year', yaxis_title='Number of Electric Vehicles', title='Electric Vehicle Population in Washington State', title_x=0.5)\n",
    "\n"
   ]
  },
  {
   "cell_type": "markdown",
   "metadata": {},
   "source": [
    "### Analysis\n",
    "The graph shows that the number of EVs in Washington State has been increasing steadily over time.\n",
    "According to the dataset, there were 44,350 EVs registered in Washington State in 2023. This is a significant increase from just a few years ago, in 2010, when there were only about 1,000 EVs registered in the state. There are a number of reasons why the number of EVs in Washington State is increasing. One reason is that EVs are becoming more affordable. The cost of batteries, a major component of EVs, has been declining in recent years. Additionally, there are a number of government incentives available to people who purchase EVs, such as tax credits and rebates."
   ]
  },
  {
   "cell_type": "markdown",
   "metadata": {},
   "source": [
    "# Funnel Chart"
   ]
  },
  {
   "cell_type": "code",
   "execution_count": 6,
   "metadata": {},
   "outputs": [
    {
     "data": {
      "application/vnd.plotly.v1+json": {
       "config": {
        "plotlyServerURL": "https://plot.ly"
       },
       "data": [
        {
         "hovertemplate": "Count=%{x}<br>Make=%{y}<extra></extra>",
         "legendgroup": "",
         "marker": {
          "color": "#636efa"
         },
         "name": "",
         "orientation": "h",
         "showlegend": false,
         "type": "funnel",
         "x": [
          61618,
          11105,
          10938,
          7191,
          5858
         ],
         "xaxis": "x",
         "y": [
          "TESLA",
          "NISSAN",
          "CHEVROLET",
          "FORD",
          "BMW"
         ],
         "yaxis": "y"
        }
       ],
       "layout": {
        "legend": {
         "tracegroupgap": 0
        },
        "template": {
         "data": {
          "bar": [
           {
            "error_x": {
             "color": "#2a3f5f"
            },
            "error_y": {
             "color": "#2a3f5f"
            },
            "marker": {
             "line": {
              "color": "#E5ECF6",
              "width": 0.5
             },
             "pattern": {
              "fillmode": "overlay",
              "size": 10,
              "solidity": 0.2
             }
            },
            "type": "bar"
           }
          ],
          "barpolar": [
           {
            "marker": {
             "line": {
              "color": "#E5ECF6",
              "width": 0.5
             },
             "pattern": {
              "fillmode": "overlay",
              "size": 10,
              "solidity": 0.2
             }
            },
            "type": "barpolar"
           }
          ],
          "carpet": [
           {
            "aaxis": {
             "endlinecolor": "#2a3f5f",
             "gridcolor": "white",
             "linecolor": "white",
             "minorgridcolor": "white",
             "startlinecolor": "#2a3f5f"
            },
            "baxis": {
             "endlinecolor": "#2a3f5f",
             "gridcolor": "white",
             "linecolor": "white",
             "minorgridcolor": "white",
             "startlinecolor": "#2a3f5f"
            },
            "type": "carpet"
           }
          ],
          "choropleth": [
           {
            "colorbar": {
             "outlinewidth": 0,
             "ticks": ""
            },
            "type": "choropleth"
           }
          ],
          "contour": [
           {
            "colorbar": {
             "outlinewidth": 0,
             "ticks": ""
            },
            "colorscale": [
             [
              0,
              "#0d0887"
             ],
             [
              0.1111111111111111,
              "#46039f"
             ],
             [
              0.2222222222222222,
              "#7201a8"
             ],
             [
              0.3333333333333333,
              "#9c179e"
             ],
             [
              0.4444444444444444,
              "#bd3786"
             ],
             [
              0.5555555555555556,
              "#d8576b"
             ],
             [
              0.6666666666666666,
              "#ed7953"
             ],
             [
              0.7777777777777778,
              "#fb9f3a"
             ],
             [
              0.8888888888888888,
              "#fdca26"
             ],
             [
              1,
              "#f0f921"
             ]
            ],
            "type": "contour"
           }
          ],
          "contourcarpet": [
           {
            "colorbar": {
             "outlinewidth": 0,
             "ticks": ""
            },
            "type": "contourcarpet"
           }
          ],
          "heatmap": [
           {
            "colorbar": {
             "outlinewidth": 0,
             "ticks": ""
            },
            "colorscale": [
             [
              0,
              "#0d0887"
             ],
             [
              0.1111111111111111,
              "#46039f"
             ],
             [
              0.2222222222222222,
              "#7201a8"
             ],
             [
              0.3333333333333333,
              "#9c179e"
             ],
             [
              0.4444444444444444,
              "#bd3786"
             ],
             [
              0.5555555555555556,
              "#d8576b"
             ],
             [
              0.6666666666666666,
              "#ed7953"
             ],
             [
              0.7777777777777778,
              "#fb9f3a"
             ],
             [
              0.8888888888888888,
              "#fdca26"
             ],
             [
              1,
              "#f0f921"
             ]
            ],
            "type": "heatmap"
           }
          ],
          "heatmapgl": [
           {
            "colorbar": {
             "outlinewidth": 0,
             "ticks": ""
            },
            "colorscale": [
             [
              0,
              "#0d0887"
             ],
             [
              0.1111111111111111,
              "#46039f"
             ],
             [
              0.2222222222222222,
              "#7201a8"
             ],
             [
              0.3333333333333333,
              "#9c179e"
             ],
             [
              0.4444444444444444,
              "#bd3786"
             ],
             [
              0.5555555555555556,
              "#d8576b"
             ],
             [
              0.6666666666666666,
              "#ed7953"
             ],
             [
              0.7777777777777778,
              "#fb9f3a"
             ],
             [
              0.8888888888888888,
              "#fdca26"
             ],
             [
              1,
              "#f0f921"
             ]
            ],
            "type": "heatmapgl"
           }
          ],
          "histogram": [
           {
            "marker": {
             "pattern": {
              "fillmode": "overlay",
              "size": 10,
              "solidity": 0.2
             }
            },
            "type": "histogram"
           }
          ],
          "histogram2d": [
           {
            "colorbar": {
             "outlinewidth": 0,
             "ticks": ""
            },
            "colorscale": [
             [
              0,
              "#0d0887"
             ],
             [
              0.1111111111111111,
              "#46039f"
             ],
             [
              0.2222222222222222,
              "#7201a8"
             ],
             [
              0.3333333333333333,
              "#9c179e"
             ],
             [
              0.4444444444444444,
              "#bd3786"
             ],
             [
              0.5555555555555556,
              "#d8576b"
             ],
             [
              0.6666666666666666,
              "#ed7953"
             ],
             [
              0.7777777777777778,
              "#fb9f3a"
             ],
             [
              0.8888888888888888,
              "#fdca26"
             ],
             [
              1,
              "#f0f921"
             ]
            ],
            "type": "histogram2d"
           }
          ],
          "histogram2dcontour": [
           {
            "colorbar": {
             "outlinewidth": 0,
             "ticks": ""
            },
            "colorscale": [
             [
              0,
              "#0d0887"
             ],
             [
              0.1111111111111111,
              "#46039f"
             ],
             [
              0.2222222222222222,
              "#7201a8"
             ],
             [
              0.3333333333333333,
              "#9c179e"
             ],
             [
              0.4444444444444444,
              "#bd3786"
             ],
             [
              0.5555555555555556,
              "#d8576b"
             ],
             [
              0.6666666666666666,
              "#ed7953"
             ],
             [
              0.7777777777777778,
              "#fb9f3a"
             ],
             [
              0.8888888888888888,
              "#fdca26"
             ],
             [
              1,
              "#f0f921"
             ]
            ],
            "type": "histogram2dcontour"
           }
          ],
          "mesh3d": [
           {
            "colorbar": {
             "outlinewidth": 0,
             "ticks": ""
            },
            "type": "mesh3d"
           }
          ],
          "parcoords": [
           {
            "line": {
             "colorbar": {
              "outlinewidth": 0,
              "ticks": ""
             }
            },
            "type": "parcoords"
           }
          ],
          "pie": [
           {
            "automargin": true,
            "type": "pie"
           }
          ],
          "scatter": [
           {
            "fillpattern": {
             "fillmode": "overlay",
             "size": 10,
             "solidity": 0.2
            },
            "type": "scatter"
           }
          ],
          "scatter3d": [
           {
            "line": {
             "colorbar": {
              "outlinewidth": 0,
              "ticks": ""
             }
            },
            "marker": {
             "colorbar": {
              "outlinewidth": 0,
              "ticks": ""
             }
            },
            "type": "scatter3d"
           }
          ],
          "scattercarpet": [
           {
            "marker": {
             "colorbar": {
              "outlinewidth": 0,
              "ticks": ""
             }
            },
            "type": "scattercarpet"
           }
          ],
          "scattergeo": [
           {
            "marker": {
             "colorbar": {
              "outlinewidth": 0,
              "ticks": ""
             }
            },
            "type": "scattergeo"
           }
          ],
          "scattergl": [
           {
            "marker": {
             "colorbar": {
              "outlinewidth": 0,
              "ticks": ""
             }
            },
            "type": "scattergl"
           }
          ],
          "scattermapbox": [
           {
            "marker": {
             "colorbar": {
              "outlinewidth": 0,
              "ticks": ""
             }
            },
            "type": "scattermapbox"
           }
          ],
          "scatterpolar": [
           {
            "marker": {
             "colorbar": {
              "outlinewidth": 0,
              "ticks": ""
             }
            },
            "type": "scatterpolar"
           }
          ],
          "scatterpolargl": [
           {
            "marker": {
             "colorbar": {
              "outlinewidth": 0,
              "ticks": ""
             }
            },
            "type": "scatterpolargl"
           }
          ],
          "scatterternary": [
           {
            "marker": {
             "colorbar": {
              "outlinewidth": 0,
              "ticks": ""
             }
            },
            "type": "scatterternary"
           }
          ],
          "surface": [
           {
            "colorbar": {
             "outlinewidth": 0,
             "ticks": ""
            },
            "colorscale": [
             [
              0,
              "#0d0887"
             ],
             [
              0.1111111111111111,
              "#46039f"
             ],
             [
              0.2222222222222222,
              "#7201a8"
             ],
             [
              0.3333333333333333,
              "#9c179e"
             ],
             [
              0.4444444444444444,
              "#bd3786"
             ],
             [
              0.5555555555555556,
              "#d8576b"
             ],
             [
              0.6666666666666666,
              "#ed7953"
             ],
             [
              0.7777777777777778,
              "#fb9f3a"
             ],
             [
              0.8888888888888888,
              "#fdca26"
             ],
             [
              1,
              "#f0f921"
             ]
            ],
            "type": "surface"
           }
          ],
          "table": [
           {
            "cells": {
             "fill": {
              "color": "#EBF0F8"
             },
             "line": {
              "color": "white"
             }
            },
            "header": {
             "fill": {
              "color": "#C8D4E3"
             },
             "line": {
              "color": "white"
             }
            },
            "type": "table"
           }
          ]
         },
         "layout": {
          "annotationdefaults": {
           "arrowcolor": "#2a3f5f",
           "arrowhead": 0,
           "arrowwidth": 1
          },
          "autotypenumbers": "strict",
          "coloraxis": {
           "colorbar": {
            "outlinewidth": 0,
            "ticks": ""
           }
          },
          "colorscale": {
           "diverging": [
            [
             0,
             "#8e0152"
            ],
            [
             0.1,
             "#c51b7d"
            ],
            [
             0.2,
             "#de77ae"
            ],
            [
             0.3,
             "#f1b6da"
            ],
            [
             0.4,
             "#fde0ef"
            ],
            [
             0.5,
             "#f7f7f7"
            ],
            [
             0.6,
             "#e6f5d0"
            ],
            [
             0.7,
             "#b8e186"
            ],
            [
             0.8,
             "#7fbc41"
            ],
            [
             0.9,
             "#4d9221"
            ],
            [
             1,
             "#276419"
            ]
           ],
           "sequential": [
            [
             0,
             "#0d0887"
            ],
            [
             0.1111111111111111,
             "#46039f"
            ],
            [
             0.2222222222222222,
             "#7201a8"
            ],
            [
             0.3333333333333333,
             "#9c179e"
            ],
            [
             0.4444444444444444,
             "#bd3786"
            ],
            [
             0.5555555555555556,
             "#d8576b"
            ],
            [
             0.6666666666666666,
             "#ed7953"
            ],
            [
             0.7777777777777778,
             "#fb9f3a"
            ],
            [
             0.8888888888888888,
             "#fdca26"
            ],
            [
             1,
             "#f0f921"
            ]
           ],
           "sequentialminus": [
            [
             0,
             "#0d0887"
            ],
            [
             0.1111111111111111,
             "#46039f"
            ],
            [
             0.2222222222222222,
             "#7201a8"
            ],
            [
             0.3333333333333333,
             "#9c179e"
            ],
            [
             0.4444444444444444,
             "#bd3786"
            ],
            [
             0.5555555555555556,
             "#d8576b"
            ],
            [
             0.6666666666666666,
             "#ed7953"
            ],
            [
             0.7777777777777778,
             "#fb9f3a"
            ],
            [
             0.8888888888888888,
             "#fdca26"
            ],
            [
             1,
             "#f0f921"
            ]
           ]
          },
          "colorway": [
           "#636efa",
           "#EF553B",
           "#00cc96",
           "#ab63fa",
           "#FFA15A",
           "#19d3f3",
           "#FF6692",
           "#B6E880",
           "#FF97FF",
           "#FECB52"
          ],
          "font": {
           "color": "#2a3f5f"
          },
          "geo": {
           "bgcolor": "white",
           "lakecolor": "white",
           "landcolor": "#E5ECF6",
           "showlakes": true,
           "showland": true,
           "subunitcolor": "white"
          },
          "hoverlabel": {
           "align": "left"
          },
          "hovermode": "closest",
          "mapbox": {
           "style": "light"
          },
          "paper_bgcolor": "white",
          "plot_bgcolor": "#E5ECF6",
          "polar": {
           "angularaxis": {
            "gridcolor": "white",
            "linecolor": "white",
            "ticks": ""
           },
           "bgcolor": "#E5ECF6",
           "radialaxis": {
            "gridcolor": "white",
            "linecolor": "white",
            "ticks": ""
           }
          },
          "scene": {
           "xaxis": {
            "backgroundcolor": "#E5ECF6",
            "gridcolor": "white",
            "gridwidth": 2,
            "linecolor": "white",
            "showbackground": true,
            "ticks": "",
            "zerolinecolor": "white"
           },
           "yaxis": {
            "backgroundcolor": "#E5ECF6",
            "gridcolor": "white",
            "gridwidth": 2,
            "linecolor": "white",
            "showbackground": true,
            "ticks": "",
            "zerolinecolor": "white"
           },
           "zaxis": {
            "backgroundcolor": "#E5ECF6",
            "gridcolor": "white",
            "gridwidth": 2,
            "linecolor": "white",
            "showbackground": true,
            "ticks": "",
            "zerolinecolor": "white"
           }
          },
          "shapedefaults": {
           "line": {
            "color": "#2a3f5f"
           }
          },
          "ternary": {
           "aaxis": {
            "gridcolor": "white",
            "linecolor": "white",
            "ticks": ""
           },
           "baxis": {
            "gridcolor": "white",
            "linecolor": "white",
            "ticks": ""
           },
           "bgcolor": "#E5ECF6",
           "caxis": {
            "gridcolor": "white",
            "linecolor": "white",
            "ticks": ""
           }
          },
          "title": {
           "x": 0.05
          },
          "xaxis": {
           "automargin": true,
           "gridcolor": "white",
           "linecolor": "white",
           "ticks": "",
           "title": {
            "standoff": 15
           },
           "zerolinecolor": "white",
           "zerolinewidth": 2
          },
          "yaxis": {
           "automargin": true,
           "gridcolor": "white",
           "linecolor": "white",
           "ticks": "",
           "title": {
            "standoff": 15
           },
           "zerolinecolor": "white",
           "zerolinewidth": 2
          }
         }
        },
        "title": {
         "text": "Top 5 Electric Vehicle Makes in Washington State",
         "x": 0.5
        },
        "xaxis": {
         "anchor": "y",
         "domain": [
          0,
          1
         ],
         "title": {
          "text": "Count"
         }
        },
        "yaxis": {
         "anchor": "x",
         "domain": [
          0,
          1
         ],
         "title": {
          "text": "Make"
         }
        }
       }
      }
     },
     "metadata": {},
     "output_type": "display_data"
    }
   ],
   "source": [
    "# Group the data by 'Make' and count the number of electric vehicles for each make\n",
    "ev_count_by_make = clean_e_vehicle_df['Make'].value_counts().reset_index().head(5)\n",
    "ev_count_by_make.columns = ['Make', 'Count']\n",
    "\n",
    "fig = px.funnel(ev_count_by_make, x='Count', y='Make', title='Top 5 Electric Vehicle Makes in Washington State')\n",
    "fig.update_layout(title_x=0.5)\n",
    "fig.show()"
   ]
  },
  {
   "cell_type": "markdown",
   "metadata": {},
   "source": [
    "### Analysis\n",
    "\n",
    "Tesla is the most popular electric vehicle maker in Washington State, with over 61,000 vehicles registered.\n",
    "Nissan is the second most popular brand, with over 11,000 vehicles registered.\n",
    "Chevrolet, Ford, and BMW round out the top 5, with between 5,000 and 11,000 vehicles registered each.\n",
    "\n",
    "The popularity of electric vehicles (EVs) in Washington State, particularly the dominance of Tesla, highlights the rapid adoption of sustainable mobility solutions in the region. As of 2023, Tesla accounts for approximately 61,000 vehicles registered, far surpassing other brands. Nissan follows closely with over 11,000 vehicles registered, while Chevrolet, Ford, and BMW occupy positions three through five with similar numbers of vehicles registered."
   ]
  },
  {
   "cell_type": "markdown",
   "metadata": {},
   "source": [
    "## Candlestick Charts"
   ]
  },
  {
   "cell_type": "code",
   "execution_count": 7,
   "metadata": {},
   "outputs": [
    {
     "data": {
      "application/vnd.plotly.v1+json": {
       "config": {
        "plotlyServerURL": "https://plot.ly"
       },
       "data": [
        {
         "close": [
          170.4044952392578,
          167.52200317382812,
          164.35699462890625,
          163.25399780273438,
          162.5540008544922,
          161.48599243164062,
          165.36199951171875,
          165.20700073242188,
          161.21400451660156,
          162.13800048828125,
          158.91749572753906,
          156.2989959716797,
          151.66749572753906,
          142.64300537109375,
          144.54400634765625,
          139.98599243164062,
          138.87249755859375,
          139.6374969482422,
          143.97799682617188,
          149.57350158691406,
          151.19349670410156,
          150.6125030517578,
          138.8455047607422,
          157.63949584960938,
          157.9355010986328,
          161.4134979248047,
          161.1894989013672,
          159.0034942626953,
          153.2935028076172,
          155.16700744628906,
          156.510498046875,
          158.10049438476562,
          154.65249633789062,
          152.60150146484375,
          150.19749450683594,
          144.82699584960938,
          151.35800170898438,
          153.7884979248047,
          153.56300354003906,
          151.14199829101562,
          152.05250549316406,
          147.89849853515625,
          145.64100646972656,
          137.4530029296875,
          136.01449584960938,
          139.2790069580078,
          146.8175048828125,
          145.52450561523438,
          141.85299682617188,
          147.3665008544922,
          153.10400390625,
          157.23899841308594,
          161.25050354003906,
          161.4915008544922,
          164.88900756835938,
          163.4080047607422,
          163.64950561523438,
          164.77349853515625,
          168.99049377441406,
          169.31500244140625,
          166.30099487304688,
          162.99749755859375,
          163.55999755859375,
          168.34649658203125,
          164.05499267578125,
          158.75599670410156,
          157.7845001220703,
          154.4604949951172,
          151.1219940185547,
          150.78750610351562,
          155.54100036621094,
          151.7064971923828,
          152.78500366210938,
          158.11549377441406,
          153.9980010986328,
          148.29600524902344,
          144.35000610351562,
          146.07400512695312,
          139.39100646972656,
          138.16700744628906,
          144.59649658203125,
          124.28150177001952,
          124.5,
          124.25350189208984,
          125.92849731445312,
          116.40699768066406,
          114.77249908447266,
          108.78900146484376,
          108.85900115966795,
          105.37200164794922,
          106.93049621582033,
          113.05500030517578,
          110.8105010986328,
          115.36849975585938,
          107.1125030517578,
          107.31900024414062,
          107.59100341796876,
          107.55699920654295,
          104.0999984741211,
          106.7750015258789,
          111.07749938964844,
          115.14649963378906,
          120.20950317382812,
          121.68399810791016,
          125.51100158691406,
          122.3499984741211,
          124.79000091552734,
          123,
          121.18000030517578,
          116.1500015258789,
          109.6500015258789,
          103.66999816894533,
          102.30999755859376,
          107.66999816894533,
          103.66000366210938,
          106.22000122070312,
          108.68000030517578,
          108.9499969482422,
          112.44000244140624,
          116.45999908447266,
          113.22000122070312,
          107.4000015258789,
          108.91999816894533,
          106.20999908447266,
          109.55999755859376,
          113.5,
          114.33000183105467,
          116.33000183105467,
          115.54000091552734,
          111.75,
          109.22000122070312,
          110.4000015258789,
          110.62999725341795,
          113.5500030517578,
          113.76000213623048,
          118.20999908447266,
          122.7699966430664,
          124.62999725341795,
          122.41999816894533,
          121.13999938964844,
          114.80999755859376,
          120.97000122070312,
          122.27999877929688,
          134.9499969482422,
          135.38999938964844,
          134.16000366210938,
          139.52000427246094,
          142.57000732421875,
          140.8000030517578,
          139.41000366210938,
          137.8300018310547,
          142.69000244140625,
          140.63999938964844,
          143.5500030517578,
          143.17999267578125,
          144.77999877929688,
          142.10000610351562,
          142.3000030517578,
          138.22999572753906,
          133.22000122070312,
          133.6199951171875,
          133.8000030517578,
          137.27999877929688,
          130.75,
          129.7899932861328,
          128.72999572753906,
          126.7699966430664,
          127.81999969482422,
          127.51000213623048,
          126.11000061035156,
          129.47999572753906,
          129.82000732421875,
          133.27000427246094,
          136.4499969482422,
          126.81999969482422,
          128.5500030517578,
          126.27999877929688,
          123.52999877929688,
          124.66000366210938,
          122.19000244140624,
          118.54000091552734,
          117.30999755859376,
          113.77999877929688,
          115.1500015258789,
          114.41000366210938,
          118.01000213623048,
          114.8000030517578,
          113,
          115.87999725341795,
          121.08999633789062,
          120.9499969482422,
          120.3000030517578,
          114.55999755859376,
          113.66999816894533,
          112.20999908447266,
          112.9000015258789,
          112.52999877929688,
          106.9000015258789,
          113.79000091552734,
          116.36000061035156,
          115.06999969482422,
          115.25,
          119.31999969482422,
          119.81999969482422,
          120.5999984741211,
          115.66000366210938,
          110.95999908447266,
          103.41000366210938,
          102.44000244140624,
          96.79000091552734,
          92.12000274658205,
          89.30000305175781,
          90.9800033569336,
          90.52999877929688,
          89.9800033569336,
          86.13999938964844,
          96.62999725341795,
          100.79000091552734,
          98.48999786376952,
          98.94000244140624,
          97.12000274658205,
          94.8499984741211,
          94.13999938964844,
          92.45999908447266,
          93.1999969482422,
          94.12999725341795,
          93.41000366210938,
          93.9499969482422,
          92.41999816894533,
          96.54000091552734,
          95.5,
          94.12999725341795,
          91.01000213623048,
          88.25,
          88.45999908447266,
          90.3499984741211,
          89.08999633789062,
          88.50499725341797
         ],
         "high": [
          170.70350646972656,
          171.39999389648438,
          167.12649536132812,
          164.8000030517578,
          165.24349975585938,
          161.6614990234375,
          166.35000610351562,
          166.8780059814453,
          166.22149658203125,
          162.25,
          159.7344970703125,
          159.25,
          158,
          150.89999389648438,
          144.94500732421875,
          143.60000610351562,
          145.18499755859375,
          144.24349975585938,
          143.9980010986328,
          150.36050415039062,
          151.70799255371094,
          155.0749969482422,
          144.24749755859375,
          161.1999969482422,
          162.6909942626953,
          161.79249572753906,
          163.83450317382812,
          160.7165069580078,
          159,
          158.44850158691406,
          158.0070037841797,
          158.83399963378906,
          160.3489990234375,
          155.49949645996094,
          152.9824981689453,
          151.76300048828125,
          151.74899291992188,
          153.99000549316406,
          154.4499969482422,
          154.0989990234375,
          152.99949645996094,
          153.9290008544922,
          147.85000610351562,
          146.09449768066406,
          140.69949340820312,
          140.25,
          148.67449951171875,
          149.6750030517578,
          147.4499969482422,
          147.98500061035156,
          153.14999389648438,
          157.49850463867188,
          161.593994140625,
          163.08399963378906,
          166.16700744628906,
          166.3699951171875,
          164.11849975585938,
          165.36849975585938,
          169.03750610351562,
          170.8314971923828,
          168.95050048828125,
          166.4949951171875,
          165.82699584960938,
          168.39450073242188,
          168.11050415039062,
          162.1999969482422,
          160.07899475097656,
          157.36849975585938,
          154.13650512695312,
          155.0989990234375,
          156.02499389648438,
          155.89700317382812,
          154.0395050048828,
          158.6490020751953,
          157.6024932861328,
          156.73800659179688,
          149.61500549316406,
          146.22149658203125,
          144.8560028076172,
          141.94850158691406,
          145.9375,
          130.76100158691406,
          124.66799926757812,
          126.22049713134766,
          126,
          123.4990005493164,
          119.05049896240234,
          114,
          112.64250183105467,
          110.15599822998048,
          110.78050231933594,
          113.18399810791016,
          113.99250030517578,
          115.8000030517578,
          112.85299682617188,
          110.03399658203124,
          109.89800262451172,
          108.81900024414062,
          105.4000015258789,
          108.1750030517578,
          112.66549682617188,
          115.18699645996094,
          121.99449920654295,
          125.1790008544922,
          125.61000061035156,
          124.4000015258789,
          128.99000549316406,
          124.0999984741211,
          123.75,
          121.3000030517578,
          114.5,
          106.54000091552734,
          104.87999725341795,
          109.05999755859376,
          104.58000183105467,
          106.9800033569336,
          111.62999725341795,
          112.12999725341795,
          113,
          116.70999908447266,
          117.9800033569336,
          114.8499984741211,
          110.98999786376952,
          108.18000030517578,
          109.75,
          114.08000183105467,
          115.4800033569336,
          116.98999786376952,
          116.58000183105467,
          114.3000030517578,
          113.2300033569336,
          111.77999877929688,
          111.18000030517578,
          115.58999633789062,
          117.23999786376952,
          118.9499969482422,
          123.4800033569336,
          124.8499984741211,
          125.5,
          123.63999938964844,
          118.1500015258789,
          121.9000015258789,
          122.83999633789062,
          137.64999389648438,
          138.8300018310547,
          137.44000244140625,
          140.49000549316406,
          143.55999755859375,
          142.86000061035156,
          144.22999572753906,
          138.9499969482422,
          144.60000610351562,
          144.49000549316406,
          143.57000732421875,
          143.75999450683594,
          146.57000732421875,
          143.3800048828125,
          142.77000427246094,
          141.11000061035156,
          136.32000732421875,
          134.99000549316406,
          135.47000122070312,
          137.4199981689453,
          137.8300018310547,
          131.9499969482422,
          132.07000732421875,
          130.58999633789062,
          128.02000427246094,
          131.3800048828125,
          128.6199951171875,
          129.82000732421875,
          130.27999877929688,
          133.69000244140625,
          136.49000549316406,
          131.39999389648438,
          128.83999633789062,
          130.3699951171875,
          123.87000274658205,
          124.70999908447266,
          124.4000015258789,
          123.76000213623048,
          118.79000091552734,
          116.0500030517578,
          117.33999633789062,
          118.31999969482422,
          118.6999969482422,
          116.06999969482422,
          116.91999816894533,
          116.91000366210938,
          123,
          121.75,
          121.52999877929688,
          118.16999816894533,
          116.25,
          115.4800033569336,
          113.83000183105467,
          113.44000244140624,
          114.95999908447266,
          114.19000244140624,
          119.5199966430664,
          116.58999633789062,
          118.23999786376952,
          119.58999633789062,
          120.38999938964844,
          121.31999969482422,
          119.3499984741211,
          114.12000274658205,
          103.95999908447266,
          104.87000274658205,
          104.58000183105467,
          97.73999786376952,
          93.5,
          92.44000244140624,
          92.0999984741211,
          91.72000122070312,
          89.4800033569336,
          98.69000244140624,
          101.19000244140624,
          100.12000274658205,
          103.79000091552734,
          98.48999786376952,
          96.97000122070312,
          95.98999786376952,
          95.0199966430664,
          93.3499984741211,
          94.58000183105467,
          94.43000030517578,
          96.4000015258789,
          94.41000366210938,
          96.54000091552734,
          97.2300033569336,
          95.36000061035156,
          94.05999755859376,
          91.04000091552734,
          89.88999938964844,
          90.86000061035156,
          90.3000030517578,
          89.5
         ],
         "low": [
          166.16050720214844,
          166.34950256347656,
          164.35699462890625,
          161.93699645996094,
          162.031005859375,
          156.30450439453125,
          160.70150756835938,
          164.41700744628906,
          161.09100341796875,
          159.80050659179688,
          157.6645050048828,
          156.25,
          151.3509979248047,
          142.07049560546875,
          135.3520050048828,
          138.14500427246094,
          137.31849670410156,
          139.35000610351562,
          137.92950439453125,
          144.30050659179688,
          147.62750244140625,
          148.86349487304688,
          138.33299255371094,
          150.60800170898438,
          157.25,
          155.55050659179688,
          160.25,
          157.75,
          152.73399353027344,
          151.64999389648438,
          154.6374969482422,
          154.7344970703125,
          154.5,
          150.89300537109375,
          148.48550415039062,
          144.6510009765625,
          139.5,
          149.2135009765625,
          150.85000610351562,
          149.9770050048828,
          148.75,
          146.8560028076172,
          143.8070068359375,
          137.41650390625,
          133.57249450683594,
          136.8280029296875,
          143.97799682617188,
          145.36900329589844,
          140.88400268554688,
          142,
          147.35350036621094,
          152.13999938964844,
          156.01100158691406,
          159.55299377441406,
          161.69900512695312,
          162.68699645996094,
          160.0500030517578,
          162.25,
          164.89999389648438,
          167.86849975585938,
          165.5,
          162.95350646972656,
          162.3195037841797,
          163.20550537109375,
          163.26600646972656,
          157.25450134277344,
          154.51150512695312,
          154.2310028076172,
          150.5345001220703,
          150.38299560546875,
          149.60000610351562,
          151.4720001220703,
          150.25050354003906,
          151.55050659179688,
          153.60350036621094,
          147.58949279785156,
          143.69749450683594,
          142.30650329589844,
          138.92950439453125,
          135.7834930419922,
          140.3000030517578,
          121.625,
          118.375,
          122.8249969482422,
          119.18299865722656,
          115.07250213623048,
          113.0814971923828,
          107.95700073242188,
          107.1709976196289,
          104.42849731445312,
          102.40550231933594,
          107.8000030517578,
          110.35399627685548,
          111.27649688720705,
          106.2490005493164,
          106.19300079345705,
          105.0094985961914,
          103.9499969482422,
          101.26000213623048,
          103.6500015258789,
          107.45349884033205,
          112.62799835205078,
          115.6750030517578,
          120.62249755859376,
          120.04499816894533,
          121.04650115966795,
          123.80999755859376,
          120.62999725341795,
          120.75,
          116.0999984741211,
          109.0500030517578,
          101.86000061035156,
          101.43000030517578,
          103.52999877929688,
          102.01000213623048,
          102.51000213623048,
          103.55999755859376,
          107.0199966430664,
          107.93000030517578,
          111.43000030517578,
          112.6999969482422,
          107.04000091552734,
          106.91000366210938,
          102.5199966430664,
          105.8499984741211,
          106.31999969482422,
          112.01000213623048,
          113.48999786376952,
          113.69000244140624,
          110.87000274658205,
          108.33999633789062,
          106.01000213623048,
          107.58000183105467,
          111.58999633789062,
          113.1500015258789,
          114.02999877929688,
          118.31999969482422,
          121.26000213623048,
          121.3499984741211,
          120.02999877929688,
          114.52999877929688,
          117.16000366210938,
          118.08000183105467,
          132.41000366210938,
          133.50999450683594,
          134.08999633789062,
          136.0500030517578,
          139.5500030517578,
          139.60000610351562,
          138.2899932861328,
          136.2100067138672,
          141.00999450683594,
          139.75999450683594,
          140.1199951171875,
          141.49000549316406,
          142,
          140.77999877929688,
          140.3800048828125,
          137.91000366210938,
          132.85000610351562,
          132.9499969482422,
          132.10000610351562,
          134.27999877929688,
          130.5,
          128.77000427246094,
          126.8499984741211,
          126.73999786376952,
          123.66000366210938,
          126.38999938964844,
          124.73999786376952,
          125.4000015258789,
          127.0999984741211,
          130.75999450683594,
          134,
          126.2699966430664,
          126.33000183105467,
          125.5,
          120.6999969482422,
          121.8000030517578,
          121.13999938964844,
          118.4499969482422,
          116.26000213623048,
          112.05999755859376,
          113.12999725341795,
          113.0500030517578,
          113.8000030517578,
          113.05999755859376,
          112.83999633789062,
          112.4499969482422,
          119.79000091552734,
          117.69000244140624,
          119.5,
          113.87999725341795,
          112.43000030517578,
          110.38999938964844,
          111.4000015258789,
          105.3499984741211,
          106.5999984741211,
          110.08999633789062,
          114.79000091552734,
          113.22000122070312,
          113.51000213623048,
          114.5,
          116.56999969482422,
          118.9499969482422,
          114.76000213623048,
          109.7699966430664,
          97.66000366210938,
          100.73999786376952,
          96.05999755859376,
          92.01000213623048,
          89.0199966430664,
          88.04000091552734,
          89.04000091552734,
          88.2300033569336,
          85.87000274658203,
          91.6500015258789,
          96.66000366210938,
          97.29000091552734,
          97.33999633789062,
          95.54000091552734,
          94.02999877929688,
          92.4800033569336,
          90.58999633789062,
          90.87000274658205,
          92.83000183105467,
          93.06999969482422,
          93.43000030517578,
          91.44000244140624,
          91.52999877929688,
          94.91999816894533,
          93.77999877929688,
          90.81999969482422,
          87.9000015258789,
          87.4800033569336,
          87.87999725341797,
          88.62999725341797,
          87.87000274658203
         ],
         "name": "Amazon Stock",
         "open": [
          167.5500030517578,
          170.43800354003906,
          166.88299560546875,
          163.45050048828125,
          163.83900451660156,
          160.5854949951172,
          161.5,
          166.5749969482422,
          165.25050354003906,
          160.14999389648438,
          159.10499572753906,
          158.76199340820312,
          156.76600646972656,
          149.9499969482422,
          139,
          142.24249267578125,
          144.75,
          140.8000030517578,
          140.86050415039062,
          144.75,
          150,
          155.05050659179688,
          141.7375030517578,
          155.60650634765625,
          158.52000427246094,
          156.75050354003906,
          162.87350463867188,
          158.35000610351562,
          158.13450622558594,
          151.75100708007812,
          157.60549926757812,
          155.79049682617188,
          158.14599609375,
          155.49949645996094,
          150.47850036621094,
          151.65049743652344,
          139.83749389648438,
          150.5500030517578,
          152.4250030517578,
          152.7324981689453,
          150.8489990234375,
          153.531494140625,
          147.15899658203125,
          145.44349670410156,
          136.68350219726562,
          139.5,
          145.68499755859375,
          149.57449340820312,
          145.9810028076172,
          142.85000610351562,
          148.5,
          152.6405029296875,
          156.81300354003906,
          161.12100219726562,
          161.8054962158203,
          163.7050018310547,
          163.74949645996094,
          164,
          164.97500610351562,
          170.38400268554688,
          168.50950622558594,
          166.44500732421875,
          164.14950561523438,
          164.125,
          167.7415008544922,
          161.65049743652344,
          158.39999389648438,
          156.75,
          152.71299743652344,
          153.6925048828125,
          150.01849365234375,
          155.38999938964844,
          151.52349853515625,
          152.0294952392578,
          157.6024932861328,
          154.71400451660156,
          148.25,
          144.0229949951172,
          144.8000030517578,
          140.19149780273438,
          142.17799377441406,
          129.8489990234375,
          122.4010009765625,
          124.05349731445312,
          123.5999984741211,
          123,
          114.8499984741211,
          111.3125,
          111.25,
          108.10350036621094,
          102.75,
          109.06900024414062,
          113.0999984741211,
          113.2750015258789,
          111.4394989013672,
          106.28050231933594,
          109.56849670410156,
          108.46099853515624,
          104.0250015258789,
          103.65550231933594,
          107.97000122070312,
          113.5500030517578,
          116.27999877929688,
          122.25599670410156,
          121.68399810791016,
          124.1999969482422,
          125.25,
          122.01000213623048,
          122.61000061035156,
          119.98999786376952,
          113.41999816894533,
          104.19000244140624,
          104.19000244140624,
          103.86000061035156,
          104.47000122070312,
          102.8000030517578,
          108.1999969482422,
          107.43000030517578,
          110.38999938964844,
          112.37999725341795,
          117.08999633789062,
          113.5,
          107.37999725341795,
          108.11000061035156,
          106.29000091552734,
          107.5999984741211,
          113.20999908447266,
          113.8499984741211,
          114.5999984741211,
          114.08000183105467,
          112.16000366210938,
          107.02999877929688,
          110.23999786376952,
          112.5,
          115,
          115.6999969482422,
          118.62000274658205,
          123.1999969482422,
          125.01000213623048,
          122.6999969482422,
          115.79000091552734,
          117.30999755859376,
          121.56999969482422,
          134.89999389648438,
          134.9600067138672,
          134.72000122070312,
          136.2100067138672,
          140.5800018310547,
          140.10000610351562,
          142.0500030517578,
          138.0500030517578,
          142.89999389648438,
          143.86000061035156,
          142.0500030517578,
          142.8000030517578,
          143.91000366210938,
          142.69000244140625,
          141.32000732421875,
          140.47000122070312,
          135.72000122070312,
          133.41000366210938,
          132.75,
          135.25999450683594,
          136.5500030517578,
          129.89999389648438,
          131.25,
          129.4499969482422,
          126,
          129.5,
          127.91999816894533,
          126.12000274658205,
          127.72000122070312,
          130.91000366210938,
          134.10000610351562,
          131.00999450683594,
          127.36000061035156,
          127.37999725341795,
          122.77999877929688,
          122.16000366210938,
          123.3499984741211,
          122.48999786376952,
          117.08000183105467,
          116,
          113.3000030517578,
          117.1999969482422,
          114.37999725341795,
          115.5999984741211,
          114.08000183105467,
          113.58000183105467,
          119.88999938964844,
          118.58000183105467,
          120.7699966430664,
          118,
          115.0999984741211,
          112.70999908447266,
          112.48999786376952,
          107.87999725341795,
          114.0999984741211,
          110.11000061035156,
          119.05999755859376,
          114.70999908447266,
          113.83000183105467,
          114.79000091552734,
          119.9800033569336,
          119.6500015258789,
          116,
          113.91999816894533,
          97.91000366210938,
          103.55999755859376,
          103.98999786376952,
          97.31999969482422,
          92.47000122070312,
          91.48999786376952,
          91.9499969482422,
          90.79000091552734,
          89.47000122070312,
          92.94000244140624,
          97.87999725341795,
          98.7699966430664,
          103.20999908447266,
          96.8499984741211,
          95.37000274658205,
          95.9499969482422,
          93.97000122070312,
          92.62000274658205,
          93.23999786376952,
          93.79000091552734,
          93.93000030517578,
          94.04000091552734,
          92.47000122070312,
          96.98999786376952,
          94.4800033569336,
          93.0500030517578,
          90.5,
          88.33999633789062,
          89.23999786376953,
          88.9000015258789,
          89.20999908447266
         ],
         "showlegend": true,
         "type": "candlestick",
         "x": [
          "2022-01-03T00:00:00",
          "2022-01-04T00:00:00",
          "2022-01-05T00:00:00",
          "2022-01-06T00:00:00",
          "2022-01-07T00:00:00",
          "2022-01-10T00:00:00",
          "2022-01-11T00:00:00",
          "2022-01-12T00:00:00",
          "2022-01-13T00:00:00",
          "2022-01-14T00:00:00",
          "2022-01-18T00:00:00",
          "2022-01-19T00:00:00",
          "2022-01-20T00:00:00",
          "2022-01-21T00:00:00",
          "2022-01-24T00:00:00",
          "2022-01-25T00:00:00",
          "2022-01-26T00:00:00",
          "2022-01-27T00:00:00",
          "2022-01-28T00:00:00",
          "2022-01-31T00:00:00",
          "2022-02-01T00:00:00",
          "2022-02-02T00:00:00",
          "2022-02-03T00:00:00",
          "2022-02-04T00:00:00",
          "2022-02-07T00:00:00",
          "2022-02-08T00:00:00",
          "2022-02-09T00:00:00",
          "2022-02-10T00:00:00",
          "2022-02-11T00:00:00",
          "2022-02-14T00:00:00",
          "2022-02-15T00:00:00",
          "2022-02-16T00:00:00",
          "2022-02-17T00:00:00",
          "2022-02-18T00:00:00",
          "2022-02-22T00:00:00",
          "2022-02-23T00:00:00",
          "2022-02-24T00:00:00",
          "2022-02-25T00:00:00",
          "2022-02-28T00:00:00",
          "2022-03-01T00:00:00",
          "2022-03-02T00:00:00",
          "2022-03-03T00:00:00",
          "2022-03-04T00:00:00",
          "2022-03-07T00:00:00",
          "2022-03-08T00:00:00",
          "2022-03-09T00:00:00",
          "2022-03-10T00:00:00",
          "2022-03-11T00:00:00",
          "2022-03-14T00:00:00",
          "2022-03-15T00:00:00",
          "2022-03-16T00:00:00",
          "2022-03-17T00:00:00",
          "2022-03-18T00:00:00",
          "2022-03-21T00:00:00",
          "2022-03-22T00:00:00",
          "2022-03-23T00:00:00",
          "2022-03-24T00:00:00",
          "2022-03-25T00:00:00",
          "2022-03-28T00:00:00",
          "2022-03-29T00:00:00",
          "2022-03-30T00:00:00",
          "2022-03-31T00:00:00",
          "2022-04-01T00:00:00",
          "2022-04-04T00:00:00",
          "2022-04-05T00:00:00",
          "2022-04-06T00:00:00",
          "2022-04-07T00:00:00",
          "2022-04-08T00:00:00",
          "2022-04-11T00:00:00",
          "2022-04-12T00:00:00",
          "2022-04-13T00:00:00",
          "2022-04-14T00:00:00",
          "2022-04-18T00:00:00",
          "2022-04-19T00:00:00",
          "2022-04-20T00:00:00",
          "2022-04-21T00:00:00",
          "2022-04-22T00:00:00",
          "2022-04-25T00:00:00",
          "2022-04-26T00:00:00",
          "2022-04-27T00:00:00",
          "2022-04-28T00:00:00",
          "2022-04-29T00:00:00",
          "2022-05-02T00:00:00",
          "2022-05-03T00:00:00",
          "2022-05-04T00:00:00",
          "2022-05-05T00:00:00",
          "2022-05-06T00:00:00",
          "2022-05-09T00:00:00",
          "2022-05-10T00:00:00",
          "2022-05-11T00:00:00",
          "2022-05-12T00:00:00",
          "2022-05-13T00:00:00",
          "2022-05-16T00:00:00",
          "2022-05-17T00:00:00",
          "2022-05-18T00:00:00",
          "2022-05-19T00:00:00",
          "2022-05-20T00:00:00",
          "2022-05-23T00:00:00",
          "2022-05-24T00:00:00",
          "2022-05-25T00:00:00",
          "2022-05-26T00:00:00",
          "2022-05-27T00:00:00",
          "2022-05-31T00:00:00",
          "2022-06-01T00:00:00",
          "2022-06-02T00:00:00",
          "2022-06-03T00:00:00",
          "2022-06-06T00:00:00",
          "2022-06-07T00:00:00",
          "2022-06-08T00:00:00",
          "2022-06-09T00:00:00",
          "2022-06-10T00:00:00",
          "2022-06-13T00:00:00",
          "2022-06-14T00:00:00",
          "2022-06-15T00:00:00",
          "2022-06-16T00:00:00",
          "2022-06-17T00:00:00",
          "2022-06-21T00:00:00",
          "2022-06-22T00:00:00",
          "2022-06-23T00:00:00",
          "2022-06-24T00:00:00",
          "2022-06-27T00:00:00",
          "2022-06-28T00:00:00",
          "2022-06-29T00:00:00",
          "2022-06-30T00:00:00",
          "2022-07-01T00:00:00",
          "2022-07-05T00:00:00",
          "2022-07-06T00:00:00",
          "2022-07-07T00:00:00",
          "2022-07-08T00:00:00",
          "2022-07-11T00:00:00",
          "2022-07-12T00:00:00",
          "2022-07-13T00:00:00",
          "2022-07-14T00:00:00",
          "2022-07-15T00:00:00",
          "2022-07-18T00:00:00",
          "2022-07-19T00:00:00",
          "2022-07-20T00:00:00",
          "2022-07-21T00:00:00",
          "2022-07-22T00:00:00",
          "2022-07-25T00:00:00",
          "2022-07-26T00:00:00",
          "2022-07-27T00:00:00",
          "2022-07-28T00:00:00",
          "2022-07-29T00:00:00",
          "2022-08-01T00:00:00",
          "2022-08-02T00:00:00",
          "2022-08-03T00:00:00",
          "2022-08-04T00:00:00",
          "2022-08-05T00:00:00",
          "2022-08-08T00:00:00",
          "2022-08-09T00:00:00",
          "2022-08-10T00:00:00",
          "2022-08-11T00:00:00",
          "2022-08-12T00:00:00",
          "2022-08-15T00:00:00",
          "2022-08-16T00:00:00",
          "2022-08-17T00:00:00",
          "2022-08-18T00:00:00",
          "2022-08-19T00:00:00",
          "2022-08-22T00:00:00",
          "2022-08-23T00:00:00",
          "2022-08-24T00:00:00",
          "2022-08-25T00:00:00",
          "2022-08-26T00:00:00",
          "2022-08-29T00:00:00",
          "2022-08-30T00:00:00",
          "2022-08-31T00:00:00",
          "2022-09-01T00:00:00",
          "2022-09-02T00:00:00",
          "2022-09-06T00:00:00",
          "2022-09-07T00:00:00",
          "2022-09-08T00:00:00",
          "2022-09-09T00:00:00",
          "2022-09-12T00:00:00",
          "2022-09-13T00:00:00",
          "2022-09-14T00:00:00",
          "2022-09-15T00:00:00",
          "2022-09-16T00:00:00",
          "2022-09-19T00:00:00",
          "2022-09-20T00:00:00",
          "2022-09-21T00:00:00",
          "2022-09-22T00:00:00",
          "2022-09-23T00:00:00",
          "2022-09-26T00:00:00",
          "2022-09-27T00:00:00",
          "2022-09-28T00:00:00",
          "2022-09-29T00:00:00",
          "2022-09-30T00:00:00",
          "2022-10-03T00:00:00",
          "2022-10-04T00:00:00",
          "2022-10-05T00:00:00",
          "2022-10-06T00:00:00",
          "2022-10-07T00:00:00",
          "2022-10-10T00:00:00",
          "2022-10-11T00:00:00",
          "2022-10-12T00:00:00",
          "2022-10-13T00:00:00",
          "2022-10-14T00:00:00",
          "2022-10-17T00:00:00",
          "2022-10-18T00:00:00",
          "2022-10-19T00:00:00",
          "2022-10-20T00:00:00",
          "2022-10-21T00:00:00",
          "2022-10-24T00:00:00",
          "2022-10-25T00:00:00",
          "2022-10-26T00:00:00",
          "2022-10-27T00:00:00",
          "2022-10-28T00:00:00",
          "2022-10-31T00:00:00",
          "2022-11-01T00:00:00",
          "2022-11-02T00:00:00",
          "2022-11-03T00:00:00",
          "2022-11-04T00:00:00",
          "2022-11-07T00:00:00",
          "2022-11-08T00:00:00",
          "2022-11-09T00:00:00",
          "2022-11-10T00:00:00",
          "2022-11-11T00:00:00",
          "2022-11-14T00:00:00",
          "2022-11-15T00:00:00",
          "2022-11-16T00:00:00",
          "2022-11-17T00:00:00",
          "2022-11-18T00:00:00",
          "2022-11-21T00:00:00",
          "2022-11-22T00:00:00",
          "2022-11-23T00:00:00",
          "2022-11-25T00:00:00",
          "2022-11-28T00:00:00",
          "2022-11-29T00:00:00",
          "2022-11-30T00:00:00",
          "2022-12-01T00:00:00",
          "2022-12-02T00:00:00",
          "2022-12-05T00:00:00",
          "2022-12-06T00:00:00",
          "2022-12-07T00:00:00",
          "2022-12-08T00:00:00",
          "2022-12-09T00:00:00",
          "2022-12-12T00:00:00"
         ]
        }
       ],
       "layout": {
        "template": {
         "data": {
          "bar": [
           {
            "error_x": {
             "color": "#2a3f5f"
            },
            "error_y": {
             "color": "#2a3f5f"
            },
            "marker": {
             "line": {
              "color": "#E5ECF6",
              "width": 0.5
             },
             "pattern": {
              "fillmode": "overlay",
              "size": 10,
              "solidity": 0.2
             }
            },
            "type": "bar"
           }
          ],
          "barpolar": [
           {
            "marker": {
             "line": {
              "color": "#E5ECF6",
              "width": 0.5
             },
             "pattern": {
              "fillmode": "overlay",
              "size": 10,
              "solidity": 0.2
             }
            },
            "type": "barpolar"
           }
          ],
          "carpet": [
           {
            "aaxis": {
             "endlinecolor": "#2a3f5f",
             "gridcolor": "white",
             "linecolor": "white",
             "minorgridcolor": "white",
             "startlinecolor": "#2a3f5f"
            },
            "baxis": {
             "endlinecolor": "#2a3f5f",
             "gridcolor": "white",
             "linecolor": "white",
             "minorgridcolor": "white",
             "startlinecolor": "#2a3f5f"
            },
            "type": "carpet"
           }
          ],
          "choropleth": [
           {
            "colorbar": {
             "outlinewidth": 0,
             "ticks": ""
            },
            "type": "choropleth"
           }
          ],
          "contour": [
           {
            "colorbar": {
             "outlinewidth": 0,
             "ticks": ""
            },
            "colorscale": [
             [
              0,
              "#0d0887"
             ],
             [
              0.1111111111111111,
              "#46039f"
             ],
             [
              0.2222222222222222,
              "#7201a8"
             ],
             [
              0.3333333333333333,
              "#9c179e"
             ],
             [
              0.4444444444444444,
              "#bd3786"
             ],
             [
              0.5555555555555556,
              "#d8576b"
             ],
             [
              0.6666666666666666,
              "#ed7953"
             ],
             [
              0.7777777777777778,
              "#fb9f3a"
             ],
             [
              0.8888888888888888,
              "#fdca26"
             ],
             [
              1,
              "#f0f921"
             ]
            ],
            "type": "contour"
           }
          ],
          "contourcarpet": [
           {
            "colorbar": {
             "outlinewidth": 0,
             "ticks": ""
            },
            "type": "contourcarpet"
           }
          ],
          "heatmap": [
           {
            "colorbar": {
             "outlinewidth": 0,
             "ticks": ""
            },
            "colorscale": [
             [
              0,
              "#0d0887"
             ],
             [
              0.1111111111111111,
              "#46039f"
             ],
             [
              0.2222222222222222,
              "#7201a8"
             ],
             [
              0.3333333333333333,
              "#9c179e"
             ],
             [
              0.4444444444444444,
              "#bd3786"
             ],
             [
              0.5555555555555556,
              "#d8576b"
             ],
             [
              0.6666666666666666,
              "#ed7953"
             ],
             [
              0.7777777777777778,
              "#fb9f3a"
             ],
             [
              0.8888888888888888,
              "#fdca26"
             ],
             [
              1,
              "#f0f921"
             ]
            ],
            "type": "heatmap"
           }
          ],
          "heatmapgl": [
           {
            "colorbar": {
             "outlinewidth": 0,
             "ticks": ""
            },
            "colorscale": [
             [
              0,
              "#0d0887"
             ],
             [
              0.1111111111111111,
              "#46039f"
             ],
             [
              0.2222222222222222,
              "#7201a8"
             ],
             [
              0.3333333333333333,
              "#9c179e"
             ],
             [
              0.4444444444444444,
              "#bd3786"
             ],
             [
              0.5555555555555556,
              "#d8576b"
             ],
             [
              0.6666666666666666,
              "#ed7953"
             ],
             [
              0.7777777777777778,
              "#fb9f3a"
             ],
             [
              0.8888888888888888,
              "#fdca26"
             ],
             [
              1,
              "#f0f921"
             ]
            ],
            "type": "heatmapgl"
           }
          ],
          "histogram": [
           {
            "marker": {
             "pattern": {
              "fillmode": "overlay",
              "size": 10,
              "solidity": 0.2
             }
            },
            "type": "histogram"
           }
          ],
          "histogram2d": [
           {
            "colorbar": {
             "outlinewidth": 0,
             "ticks": ""
            },
            "colorscale": [
             [
              0,
              "#0d0887"
             ],
             [
              0.1111111111111111,
              "#46039f"
             ],
             [
              0.2222222222222222,
              "#7201a8"
             ],
             [
              0.3333333333333333,
              "#9c179e"
             ],
             [
              0.4444444444444444,
              "#bd3786"
             ],
             [
              0.5555555555555556,
              "#d8576b"
             ],
             [
              0.6666666666666666,
              "#ed7953"
             ],
             [
              0.7777777777777778,
              "#fb9f3a"
             ],
             [
              0.8888888888888888,
              "#fdca26"
             ],
             [
              1,
              "#f0f921"
             ]
            ],
            "type": "histogram2d"
           }
          ],
          "histogram2dcontour": [
           {
            "colorbar": {
             "outlinewidth": 0,
             "ticks": ""
            },
            "colorscale": [
             [
              0,
              "#0d0887"
             ],
             [
              0.1111111111111111,
              "#46039f"
             ],
             [
              0.2222222222222222,
              "#7201a8"
             ],
             [
              0.3333333333333333,
              "#9c179e"
             ],
             [
              0.4444444444444444,
              "#bd3786"
             ],
             [
              0.5555555555555556,
              "#d8576b"
             ],
             [
              0.6666666666666666,
              "#ed7953"
             ],
             [
              0.7777777777777778,
              "#fb9f3a"
             ],
             [
              0.8888888888888888,
              "#fdca26"
             ],
             [
              1,
              "#f0f921"
             ]
            ],
            "type": "histogram2dcontour"
           }
          ],
          "mesh3d": [
           {
            "colorbar": {
             "outlinewidth": 0,
             "ticks": ""
            },
            "type": "mesh3d"
           }
          ],
          "parcoords": [
           {
            "line": {
             "colorbar": {
              "outlinewidth": 0,
              "ticks": ""
             }
            },
            "type": "parcoords"
           }
          ],
          "pie": [
           {
            "automargin": true,
            "type": "pie"
           }
          ],
          "scatter": [
           {
            "fillpattern": {
             "fillmode": "overlay",
             "size": 10,
             "solidity": 0.2
            },
            "type": "scatter"
           }
          ],
          "scatter3d": [
           {
            "line": {
             "colorbar": {
              "outlinewidth": 0,
              "ticks": ""
             }
            },
            "marker": {
             "colorbar": {
              "outlinewidth": 0,
              "ticks": ""
             }
            },
            "type": "scatter3d"
           }
          ],
          "scattercarpet": [
           {
            "marker": {
             "colorbar": {
              "outlinewidth": 0,
              "ticks": ""
             }
            },
            "type": "scattercarpet"
           }
          ],
          "scattergeo": [
           {
            "marker": {
             "colorbar": {
              "outlinewidth": 0,
              "ticks": ""
             }
            },
            "type": "scattergeo"
           }
          ],
          "scattergl": [
           {
            "marker": {
             "colorbar": {
              "outlinewidth": 0,
              "ticks": ""
             }
            },
            "type": "scattergl"
           }
          ],
          "scattermapbox": [
           {
            "marker": {
             "colorbar": {
              "outlinewidth": 0,
              "ticks": ""
             }
            },
            "type": "scattermapbox"
           }
          ],
          "scatterpolar": [
           {
            "marker": {
             "colorbar": {
              "outlinewidth": 0,
              "ticks": ""
             }
            },
            "type": "scatterpolar"
           }
          ],
          "scatterpolargl": [
           {
            "marker": {
             "colorbar": {
              "outlinewidth": 0,
              "ticks": ""
             }
            },
            "type": "scatterpolargl"
           }
          ],
          "scatterternary": [
           {
            "marker": {
             "colorbar": {
              "outlinewidth": 0,
              "ticks": ""
             }
            },
            "type": "scatterternary"
           }
          ],
          "surface": [
           {
            "colorbar": {
             "outlinewidth": 0,
             "ticks": ""
            },
            "colorscale": [
             [
              0,
              "#0d0887"
             ],
             [
              0.1111111111111111,
              "#46039f"
             ],
             [
              0.2222222222222222,
              "#7201a8"
             ],
             [
              0.3333333333333333,
              "#9c179e"
             ],
             [
              0.4444444444444444,
              "#bd3786"
             ],
             [
              0.5555555555555556,
              "#d8576b"
             ],
             [
              0.6666666666666666,
              "#ed7953"
             ],
             [
              0.7777777777777778,
              "#fb9f3a"
             ],
             [
              0.8888888888888888,
              "#fdca26"
             ],
             [
              1,
              "#f0f921"
             ]
            ],
            "type": "surface"
           }
          ],
          "table": [
           {
            "cells": {
             "fill": {
              "color": "#EBF0F8"
             },
             "line": {
              "color": "white"
             }
            },
            "header": {
             "fill": {
              "color": "#C8D4E3"
             },
             "line": {
              "color": "white"
             }
            },
            "type": "table"
           }
          ]
         },
         "layout": {
          "annotationdefaults": {
           "arrowcolor": "#2a3f5f",
           "arrowhead": 0,
           "arrowwidth": 1
          },
          "autotypenumbers": "strict",
          "coloraxis": {
           "colorbar": {
            "outlinewidth": 0,
            "ticks": ""
           }
          },
          "colorscale": {
           "diverging": [
            [
             0,
             "#8e0152"
            ],
            [
             0.1,
             "#c51b7d"
            ],
            [
             0.2,
             "#de77ae"
            ],
            [
             0.3,
             "#f1b6da"
            ],
            [
             0.4,
             "#fde0ef"
            ],
            [
             0.5,
             "#f7f7f7"
            ],
            [
             0.6,
             "#e6f5d0"
            ],
            [
             0.7,
             "#b8e186"
            ],
            [
             0.8,
             "#7fbc41"
            ],
            [
             0.9,
             "#4d9221"
            ],
            [
             1,
             "#276419"
            ]
           ],
           "sequential": [
            [
             0,
             "#0d0887"
            ],
            [
             0.1111111111111111,
             "#46039f"
            ],
            [
             0.2222222222222222,
             "#7201a8"
            ],
            [
             0.3333333333333333,
             "#9c179e"
            ],
            [
             0.4444444444444444,
             "#bd3786"
            ],
            [
             0.5555555555555556,
             "#d8576b"
            ],
            [
             0.6666666666666666,
             "#ed7953"
            ],
            [
             0.7777777777777778,
             "#fb9f3a"
            ],
            [
             0.8888888888888888,
             "#fdca26"
            ],
            [
             1,
             "#f0f921"
            ]
           ],
           "sequentialminus": [
            [
             0,
             "#0d0887"
            ],
            [
             0.1111111111111111,
             "#46039f"
            ],
            [
             0.2222222222222222,
             "#7201a8"
            ],
            [
             0.3333333333333333,
             "#9c179e"
            ],
            [
             0.4444444444444444,
             "#bd3786"
            ],
            [
             0.5555555555555556,
             "#d8576b"
            ],
            [
             0.6666666666666666,
             "#ed7953"
            ],
            [
             0.7777777777777778,
             "#fb9f3a"
            ],
            [
             0.8888888888888888,
             "#fdca26"
            ],
            [
             1,
             "#f0f921"
            ]
           ]
          },
          "colorway": [
           "#636efa",
           "#EF553B",
           "#00cc96",
           "#ab63fa",
           "#FFA15A",
           "#19d3f3",
           "#FF6692",
           "#B6E880",
           "#FF97FF",
           "#FECB52"
          ],
          "font": {
           "color": "#2a3f5f"
          },
          "geo": {
           "bgcolor": "white",
           "lakecolor": "white",
           "landcolor": "#E5ECF6",
           "showlakes": true,
           "showland": true,
           "subunitcolor": "white"
          },
          "hoverlabel": {
           "align": "left"
          },
          "hovermode": "closest",
          "mapbox": {
           "style": "light"
          },
          "paper_bgcolor": "white",
          "plot_bgcolor": "#E5ECF6",
          "polar": {
           "angularaxis": {
            "gridcolor": "white",
            "linecolor": "white",
            "ticks": ""
           },
           "bgcolor": "#E5ECF6",
           "radialaxis": {
            "gridcolor": "white",
            "linecolor": "white",
            "ticks": ""
           }
          },
          "scene": {
           "xaxis": {
            "backgroundcolor": "#E5ECF6",
            "gridcolor": "white",
            "gridwidth": 2,
            "linecolor": "white",
            "showbackground": true,
            "ticks": "",
            "zerolinecolor": "white"
           },
           "yaxis": {
            "backgroundcolor": "#E5ECF6",
            "gridcolor": "white",
            "gridwidth": 2,
            "linecolor": "white",
            "showbackground": true,
            "ticks": "",
            "zerolinecolor": "white"
           },
           "zaxis": {
            "backgroundcolor": "#E5ECF6",
            "gridcolor": "white",
            "gridwidth": 2,
            "linecolor": "white",
            "showbackground": true,
            "ticks": "",
            "zerolinecolor": "white"
           }
          },
          "shapedefaults": {
           "line": {
            "color": "#2a3f5f"
           }
          },
          "ternary": {
           "aaxis": {
            "gridcolor": "white",
            "linecolor": "white",
            "ticks": ""
           },
           "baxis": {
            "gridcolor": "white",
            "linecolor": "white",
            "ticks": ""
           },
           "bgcolor": "#E5ECF6",
           "caxis": {
            "gridcolor": "white",
            "linecolor": "white",
            "ticks": ""
           }
          },
          "title": {
           "x": 0.05
          },
          "xaxis": {
           "automargin": true,
           "gridcolor": "white",
           "linecolor": "white",
           "ticks": "",
           "title": {
            "standoff": 15
           },
           "zerolinecolor": "white",
           "zerolinewidth": 2
          },
          "yaxis": {
           "automargin": true,
           "gridcolor": "white",
           "linecolor": "white",
           "ticks": "",
           "title": {
            "standoff": 15
           },
           "zerolinecolor": "white",
           "zerolinewidth": 2
          }
         }
        }
       }
      }
     },
     "metadata": {},
     "output_type": "display_data"
    }
   ],
   "source": [
    "amazon_stock_df = pd.read_csv('data/AMZN.csv')\n",
    "\n",
    "# Convert the 'Date' column to datetime\n",
    "amazon_stock_df['Date'] = pd.to_datetime(amazon_stock_df['Date'], format='%d-%m-%Y')\n",
    "\n",
    "# Filter the data for the year 2022\n",
    "amazon_stock_df = amazon_stock_df[amazon_stock_df['Date'] >= '01-01-2022'].reset_index(drop=True)\n",
    "\n",
    "amazon_stock_df\n",
    "\n",
    "# Create candlestick chart\n",
    "candle_stick_graph_object = go.Candlestick(\n",
    "    x=amazon_stock_df['Date'],\n",
    "    open=amazon_stock_df['Open'],\n",
    "    high=amazon_stock_df['High'],\n",
    "    low=amazon_stock_df['Low'],\n",
    "    close=amazon_stock_df['Close'],\n",
    "    name='Amazon Stock',\n",
    "    showlegend=True,\n",
    ")\n",
    "\n",
    "# Create figure\n",
    "fig = go.Figure(data=candle_stick_graph_object)\n",
    "fig.show()\n"
   ]
  },
  {
   "cell_type": "markdown",
   "metadata": {},
   "source": [
    "### Analysis\n",
    "\n",
    "The chart suggests that the price of Amazon stock was highly unstable during the given time period. It shows both upward and downward trends, along with periods of consolidation. The highest price was observed in March 2022, while the lowest price was seen in November 2022. The stock's performance in 2022 was influenced by various factors, including increasing interest rates, economic uncertainty, and ongoing regulatory scrutiny. Additionally, Amazon had to deal with challenges related to slowing revenue growth and heavy investments in several sectors such as fulfillment, delivery, AWS, and AI technology."
   ]
  }
 ],
 "metadata": {
  "kernelspec": {
   "display_name": "base",
   "language": "python",
   "name": "python3"
  },
  "language_info": {
   "codemirror_mode": {
    "name": "ipython",
    "version": 3
   },
   "file_extension": ".py",
   "mimetype": "text/x-python",
   "name": "python",
   "nbconvert_exporter": "python",
   "pygments_lexer": "ipython3",
   "version": "3.11.5"
  }
 },
 "nbformat": 4,
 "nbformat_minor": 2
}
