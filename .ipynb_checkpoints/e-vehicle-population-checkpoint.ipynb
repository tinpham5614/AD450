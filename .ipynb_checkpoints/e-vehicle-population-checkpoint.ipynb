{
 "cells": [
  {
   "cell_type": "markdown",
   "id": "ba783fc9-4cf7-4e30-85de-9c74c92d9463",
   "metadata": {},
   "source": [
    "## Electric Vehicle Population Data\n",
    "- This dataset shows the Battery Electric Vehicles (BEVs) and Plug-in Hybrid Electric Vehicles (PHEVs) that are currently registered through Washington State Department of Licensing (DOL).\n",
    "- Sources: [**https://catalog.data.gov/dataset/electric-vehicle-population-data**](https://catalog.data.gov/dataset/electric-vehicle-population-data)\n",
    "- Variables:\n",
    "    - Location (County, City, State, Postal Code)\n",
    "    - Vehicle (Make, Model, EV Type, etc.)\n",
    "- I find this dataset interesting because I want to observe the advancements in EV technology and the effectiveness of the trend in Washington State."
   ]
  },
  {
   "cell_type": "code",
   "execution_count": 1,
   "id": "45ccd61c-d325-4765-8816-3178a987cd87",
   "metadata": {
    "tags": []
   },
   "outputs": [],
   "source": [
    "import pandas as pd\n",
    "import matplotlib.pyplot as plt\n",
    "import numpy as np"
   ]
  },
  {
   "cell_type": "code",
   "execution_count": 2,
   "id": "de7db6bd-8869-4677-951b-c8307d6fceec",
   "metadata": {
    "tags": []
   },
   "outputs": [
    {
     "data": {
      "text/html": [
       "<div>\n",
       "<style scoped>\n",
       "    .dataframe tbody tr th:only-of-type {\n",
       "        vertical-align: middle;\n",
       "    }\n",
       "\n",
       "    .dataframe tbody tr th {\n",
       "        vertical-align: top;\n",
       "    }\n",
       "\n",
       "    .dataframe thead th {\n",
       "        text-align: right;\n",
       "    }\n",
       "</style>\n",
       "<table border=\"1\" class=\"dataframe\">\n",
       "  <thead>\n",
       "    <tr style=\"text-align: right;\">\n",
       "      <th></th>\n",
       "      <th>VIN (1-10)</th>\n",
       "      <th>County</th>\n",
       "      <th>City</th>\n",
       "      <th>State</th>\n",
       "      <th>Postal Code</th>\n",
       "      <th>Model Year</th>\n",
       "      <th>Make</th>\n",
       "      <th>Model</th>\n",
       "      <th>Electric Vehicle Type</th>\n",
       "      <th>Clean Alternative Fuel Vehicle (CAFV) Eligibility</th>\n",
       "      <th>Electric Range</th>\n",
       "      <th>Base MSRP</th>\n",
       "      <th>Legislative District</th>\n",
       "      <th>DOL Vehicle ID</th>\n",
       "      <th>Vehicle Location</th>\n",
       "      <th>Electric Utility</th>\n",
       "      <th>2020 Census Tract</th>\n",
       "    </tr>\n",
       "  </thead>\n",
       "  <tbody>\n",
       "    <tr>\n",
       "      <th>0</th>\n",
       "      <td>5UXKT0C59G</td>\n",
       "      <td>Yakima</td>\n",
       "      <td>Zillah</td>\n",
       "      <td>WA</td>\n",
       "      <td>98953.0</td>\n",
       "      <td>2016</td>\n",
       "      <td>BMW</td>\n",
       "      <td>X5</td>\n",
       "      <td>Plug-in Hybrid Electric Vehicle (PHEV)</td>\n",
       "      <td>Not eligible due to low battery range</td>\n",
       "      <td>14.0</td>\n",
       "      <td>0.0</td>\n",
       "      <td>15.0</td>\n",
       "      <td>206822717</td>\n",
       "      <td>POINT (-120.26317 46.40556)</td>\n",
       "      <td>PACIFICORP</td>\n",
       "      <td>5.307700e+10</td>\n",
       "    </tr>\n",
       "    <tr>\n",
       "      <th>1</th>\n",
       "      <td>5YJ3E1EA2J</td>\n",
       "      <td>Snohomish</td>\n",
       "      <td>Edmonds</td>\n",
       "      <td>WA</td>\n",
       "      <td>98020.0</td>\n",
       "      <td>2018</td>\n",
       "      <td>TESLA</td>\n",
       "      <td>MODEL 3</td>\n",
       "      <td>Battery Electric Vehicle (BEV)</td>\n",
       "      <td>Clean Alternative Fuel Vehicle Eligible</td>\n",
       "      <td>215.0</td>\n",
       "      <td>0.0</td>\n",
       "      <td>21.0</td>\n",
       "      <td>137721636</td>\n",
       "      <td>POINT (-122.37507 47.80807)</td>\n",
       "      <td>PUGET SOUND ENERGY INC</td>\n",
       "      <td>5.306105e+10</td>\n",
       "    </tr>\n",
       "    <tr>\n",
       "      <th>2</th>\n",
       "      <td>1G1RE6E4XE</td>\n",
       "      <td>Kitsap</td>\n",
       "      <td>Port Orchard</td>\n",
       "      <td>WA</td>\n",
       "      <td>98367.0</td>\n",
       "      <td>2014</td>\n",
       "      <td>CHEVROLET</td>\n",
       "      <td>VOLT</td>\n",
       "      <td>Plug-in Hybrid Electric Vehicle (PHEV)</td>\n",
       "      <td>Clean Alternative Fuel Vehicle Eligible</td>\n",
       "      <td>38.0</td>\n",
       "      <td>0.0</td>\n",
       "      <td>26.0</td>\n",
       "      <td>197718468</td>\n",
       "      <td>POINT (-122.6847073 47.50524)</td>\n",
       "      <td>PUGET SOUND ENERGY INC</td>\n",
       "      <td>5.303509e+10</td>\n",
       "    </tr>\n",
       "    <tr>\n",
       "      <th>3</th>\n",
       "      <td>2C4RC1L76M</td>\n",
       "      <td>Skagit</td>\n",
       "      <td>Bow</td>\n",
       "      <td>WA</td>\n",
       "      <td>98232.0</td>\n",
       "      <td>2021</td>\n",
       "      <td>CHRYSLER</td>\n",
       "      <td>PACIFICA</td>\n",
       "      <td>Plug-in Hybrid Electric Vehicle (PHEV)</td>\n",
       "      <td>Clean Alternative Fuel Vehicle Eligible</td>\n",
       "      <td>32.0</td>\n",
       "      <td>0.0</td>\n",
       "      <td>40.0</td>\n",
       "      <td>256274308</td>\n",
       "      <td>POINT (-122.440636 48.5613885)</td>\n",
       "      <td>PUGET SOUND ENERGY INC</td>\n",
       "      <td>5.305795e+10</td>\n",
       "    </tr>\n",
       "    <tr>\n",
       "      <th>4</th>\n",
       "      <td>5YJ3E1EA2J</td>\n",
       "      <td>Thurston</td>\n",
       "      <td>Olympia</td>\n",
       "      <td>WA</td>\n",
       "      <td>98513.0</td>\n",
       "      <td>2018</td>\n",
       "      <td>TESLA</td>\n",
       "      <td>MODEL 3</td>\n",
       "      <td>Battery Electric Vehicle (BEV)</td>\n",
       "      <td>Clean Alternative Fuel Vehicle Eligible</td>\n",
       "      <td>215.0</td>\n",
       "      <td>0.0</td>\n",
       "      <td>2.0</td>\n",
       "      <td>259176578</td>\n",
       "      <td>POINT (-122.817545 46.98876)</td>\n",
       "      <td>PUGET SOUND ENERGY INC</td>\n",
       "      <td>5.306701e+10</td>\n",
       "    </tr>\n",
       "  </tbody>\n",
       "</table>\n",
       "</div>"
      ],
      "text/plain": [
       "   VIN (1-10)     County          City State  Postal Code  Model Year  \\\n",
       "0  5UXKT0C59G     Yakima        Zillah    WA      98953.0        2016   \n",
       "1  5YJ3E1EA2J  Snohomish       Edmonds    WA      98020.0        2018   \n",
       "2  1G1RE6E4XE     Kitsap  Port Orchard    WA      98367.0        2014   \n",
       "3  2C4RC1L76M     Skagit           Bow    WA      98232.0        2021   \n",
       "4  5YJ3E1EA2J   Thurston       Olympia    WA      98513.0        2018   \n",
       "\n",
       "        Make     Model                   Electric Vehicle Type  \\\n",
       "0        BMW        X5  Plug-in Hybrid Electric Vehicle (PHEV)   \n",
       "1      TESLA   MODEL 3          Battery Electric Vehicle (BEV)   \n",
       "2  CHEVROLET      VOLT  Plug-in Hybrid Electric Vehicle (PHEV)   \n",
       "3   CHRYSLER  PACIFICA  Plug-in Hybrid Electric Vehicle (PHEV)   \n",
       "4      TESLA   MODEL 3          Battery Electric Vehicle (BEV)   \n",
       "\n",
       "  Clean Alternative Fuel Vehicle (CAFV) Eligibility  Electric Range  \\\n",
       "0             Not eligible due to low battery range            14.0   \n",
       "1           Clean Alternative Fuel Vehicle Eligible           215.0   \n",
       "2           Clean Alternative Fuel Vehicle Eligible            38.0   \n",
       "3           Clean Alternative Fuel Vehicle Eligible            32.0   \n",
       "4           Clean Alternative Fuel Vehicle Eligible           215.0   \n",
       "\n",
       "   Base MSRP  Legislative District  DOL Vehicle ID  \\\n",
       "0        0.0                  15.0       206822717   \n",
       "1        0.0                  21.0       137721636   \n",
       "2        0.0                  26.0       197718468   \n",
       "3        0.0                  40.0       256274308   \n",
       "4        0.0                   2.0       259176578   \n",
       "\n",
       "                 Vehicle Location        Electric Utility  2020 Census Tract  \n",
       "0     POINT (-120.26317 46.40556)              PACIFICORP       5.307700e+10  \n",
       "1     POINT (-122.37507 47.80807)  PUGET SOUND ENERGY INC       5.306105e+10  \n",
       "2   POINT (-122.6847073 47.50524)  PUGET SOUND ENERGY INC       5.303509e+10  \n",
       "3  POINT (-122.440636 48.5613885)  PUGET SOUND ENERGY INC       5.305795e+10  \n",
       "4    POINT (-122.817545 46.98876)  PUGET SOUND ENERGY INC       5.306701e+10  "
      ]
     },
     "execution_count": 2,
     "metadata": {},
     "output_type": "execute_result"
    }
   ],
   "source": [
    "file_path = 'data/Electric_Vehicle_Population_Data.csv'\n",
    "e_vehicle_df = pd.read_csv(file_path)\n",
    "\n",
    "# Print data\n",
    "e_vehicle_df.head()"
   ]
  },
  {
   "cell_type": "code",
   "execution_count": 3,
   "id": "28f1817e-dfa4-4812-bf1c-d3e9486917a0",
   "metadata": {
    "tags": []
   },
   "outputs": [
    {
     "data": {
      "text/plain": [
       "(138421, 17)"
      ]
     },
     "execution_count": 3,
     "metadata": {},
     "output_type": "execute_result"
    }
   ],
   "source": [
    "# Display how many rows and columns in this dataset\n",
    "e_vehicle_df.shape"
   ]
  },
  {
   "cell_type": "code",
   "execution_count": 4,
   "id": "bc84505c-23d0-4621-969d-d301bd59203d",
   "metadata": {
    "tags": []
   },
   "outputs": [
    {
     "data": {
      "text/plain": [
       "VIN (1-10)                                             0\n",
       "County                                                 5\n",
       "City                                                   5\n",
       "State                                                  0\n",
       "Postal Code                                            5\n",
       "Model Year                                             0\n",
       "Make                                                   0\n",
       "Model                                                  0\n",
       "Electric Vehicle Type                                  0\n",
       "Clean Alternative Fuel Vehicle (CAFV) Eligibility      0\n",
       "Electric Range                                         1\n",
       "Base MSRP                                              1\n",
       "Legislative District                                 359\n",
       "DOL Vehicle ID                                         0\n",
       "Vehicle Location                                      10\n",
       "Electric Utility                                       5\n",
       "2020 Census Tract                                      6\n",
       "dtype: int64"
      ]
     },
     "execution_count": 4,
     "metadata": {},
     "output_type": "execute_result"
    }
   ],
   "source": [
    "# Check null values\n",
    "e_vehicle_df.isnull().sum()"
   ]
  },
  {
   "cell_type": "code",
   "execution_count": 5,
   "id": "67649a5c-9604-4097-a762-e2c4eebe3ce8",
   "metadata": {
    "tags": []
   },
   "outputs": [],
   "source": [
    "# Cleaning dataset by dropping null values\n",
    "clean_e_vehicle_df = e_vehicle_df.dropna()"
   ]
  },
  {
   "cell_type": "code",
   "execution_count": 6,
   "id": "20666f4c-2d44-4561-be35-e03996acb0f9",
   "metadata": {
    "tags": []
   },
   "outputs": [
    {
     "data": {
      "text/plain": [
       "VIN (1-10)                                           0\n",
       "County                                               0\n",
       "City                                                 0\n",
       "State                                                0\n",
       "Postal Code                                          0\n",
       "Model Year                                           0\n",
       "Make                                                 0\n",
       "Model                                                0\n",
       "Electric Vehicle Type                                0\n",
       "Clean Alternative Fuel Vehicle (CAFV) Eligibility    0\n",
       "Electric Range                                       0\n",
       "Base MSRP                                            0\n",
       "Legislative District                                 0\n",
       "DOL Vehicle ID                                       0\n",
       "Vehicle Location                                     0\n",
       "Electric Utility                                     0\n",
       "2020 Census Tract                                    0\n",
       "dtype: int64"
      ]
     },
     "execution_count": 6,
     "metadata": {},
     "output_type": "execute_result"
    }
   ],
   "source": [
    "# Verify the data after cleaning\n",
    "clean_e_vehicle_df.isnull().sum()"
   ]
  },
  {
   "cell_type": "markdown",
   "id": "001eea57-4210-4c2a-9c68-cff460716862",
   "metadata": {},
   "source": [
    "### Part 1: Line Charts\n",
    "\n",
    "- **Objective:** Visualize a trend within your dataset\n",
    "- **Task:** Create a line chart and explain the trend you've observed. Discuss any patterns, anomalies, or insights derived from this visualization."
   ]
  },
  {
   "cell_type": "code",
   "execution_count": 10,
   "id": "15d052ac-f373-453b-8b7c-a63e4c2ec484",
   "metadata": {
    "tags": []
   },
   "outputs": [
    {
     "data": {
      "image/png": "[encoded data removed]",
      "text/plain": [
       "<Figure size 1000x600 with 1 Axes>"
      ]
     },
     "metadata": {},
     "output_type": "display_data"
    }
   ],
   "source": [
    "# Create a line chart\n",
    "# Convert 'Model Year' to datetime format\n",
    "clean_e_vehicle_df.loc[:,'Model Year'] = pd.to_datetime(clean_e_vehicle_df.loc[:,'Model Year'], format='%Y')\n",
    "\n",
    "# Extract the year from the datetime object\n",
    "clean_e_vehicle_df.loc[:, 'Year'] = clean_e_vehicle_df['Model Year'].dt.year\n",
    "\n",
    "# Group the data by 'Year' and count the number of electric vehicles for each year\n",
    "ev_count_by_year = clean_e_vehicle_df.groupby('Year').size()\n",
    "\n",
    "# Create a line chart to visualize the trend\n",
    "plt.figure(figsize=(10, 6))\n",
    "plt.plot(ev_count_by_year.index, ev_count_by_year.values, marker='o')\n",
    "plt.title('Number of Electric Vehicles Registered by Year')\n",
    "plt.xlabel('Year')\n",
    "plt.ylabel('Number of Electric Vehicles')\n",
    "plt.grid(True)\n",
    "plt.show()"
   ]
  },
  {
   "cell_type": "markdown",
   "id": "a9992a00-0b1d-4622-8853-53ea349594de",
   "metadata": {},
   "source": [
    "- This visualization provides insights into the trend of electric vehicle adoption over the years, highlighting a significant increase in registrations starting from around 2013. \n",
    "- This trend aligns with the global shift towards sustainable transportation and the increasing popularity of electric vehicles manufacturers like Tesla, Chevrolet, etc."
   ]
  },
  {
   "cell_type": "markdown",
   "id": "d15cd984-dd83-4df4-a103-86f183112b01",
   "metadata": {},
   "source": [
    "### Part 2: Bar Charts\n",
    "\n",
    "- **Objective:** Compare different categories or groups within your dataset.\n",
    "- **Task:** Generate a bar chart to illustrate these comparisons. Analyze the results and explain any significant findings."
   ]
  },
  {
   "cell_type": "code",
   "execution_count": 14,
   "id": "29419135-b160-4501-86fd-8499d47bb86e",
   "metadata": {
    "tags": []
   },
   "outputs": [
    {
     "name": "stdout",
     "output_type": "stream",
     "text": [
      "        Tesla     BMW\n",
      "Year                 \n",
      "2008     14.0     NaN\n",
      "2010     16.0     NaN\n",
      "2011      6.0     NaN\n",
      "2012     99.0     NaN\n",
      "2013    579.0     NaN\n",
      "2014    498.0   345.0\n",
      "2015    848.0   314.0\n",
      "2016   1244.0   297.0\n",
      "2017   1287.0   524.0\n",
      "2018   6211.0   550.0\n",
      "2019   3710.0   266.0\n",
      "2020   5619.0   145.0\n",
      "2021   8699.0   517.0\n",
      "2022  10869.0   740.0\n",
      "2023  21919.0  1311.0\n",
      "2024      NaN   849.0\n"
     ]
    },
    {
     "data": {
      "image/png": "[encoded data removed]",
      "text/plain": [
       "<Figure size 1200x800 with 1 Axes>"
      ]
     },
     "metadata": {},
     "output_type": "display_data"
    }
   ],
   "source": [
    "# Generate a bar chart\n",
    "# Tesla and BWM dataframe\n",
    "tesla_df = clean_e_vehicle_df[clean_e_vehicle_df['Make'] == 'TESLA']\n",
    "bmw_df = clean_e_vehicle_df[clean_e_vehicle_df['Make'] == 'BMW']\n",
    "\n",
    "# Count number of vehicle each brand\n",
    "tesla_count = tesla_df.groupby('Year').size()\n",
    "\n",
    "bmw_count = bmw_df.groupby('Year').size()\n",
    "\n",
    "combined_count_df = pd.concat([tesla_count, bmw_count], axis=1)\n",
    "combined_count_df.columns = ['Tesla', 'BMW']\n",
    "print(combined_count_df)\n",
    "\n",
    "# Plot the DataFrame as a bar chart\n",
    "combined_count_df.plot(kind='bar', figsize=(12, 8), legend=True, fontsize=12)\n",
    "plt.xlabel('Year', fontsize=12)\n",
    "plt.ylabel('Number of Vehicles', fontsize=12)\n",
    "plt.title('Number of Electric Vehicles by Make and Year', fontsize=14)\n",
    "plt.show()"
   ]
  },
  {
   "cell_type": "markdown",
   "id": "4bf0f8ea-5816-445f-81cd-a4b9dedffbc2",
   "metadata": {},
   "source": [
    "Analyze the results and explain any significant findings\\\n",
    "TODO: fill this fied"
   ]
  },
  {
   "cell_type": "markdown",
   "id": "c9d449c3-ae14-4dee-81c7-5ba0455693f0",
   "metadata": {},
   "source": [
    "### Part 3: Heatmaps\n",
    "\n",
    "- **Objective:** Explore correlations or relationships between different variables in your dataset.\n",
    "- **Task:** Create a heatmap to visualize these relationships. Discuss any strong correlations and their potential implications."
   ]
  },
  {
   "cell_type": "code",
   "execution_count": 16,
   "id": "f284bfd0-0fcd-425e-9f16-7a33822b8dfd",
   "metadata": {
    "tags": []
   },
   "outputs": [],
   "source": [
    "# Create a heatmap\n"
   ]
  }
 ],
 "metadata": {
  "kernelspec": {
   "display_name": "Python 3 (ipykernel)",
   "language": "python",
   "name": "python3"
  },
  "language_info": {
   "codemirror_mode": {
    "name": "ipython",
    "version": 3
   },
   "file_extension": ".py",
   "mimetype": "text/x-python",
   "name": "python",
   "nbconvert_exporter": "python",
   "pygments_lexer": "ipython3",
   "version": "3.11.5"
  },
  "toc-autonumbering": false,
  "toc-showcode": false,
  "toc-showmarkdowntxt": false,
  "toc-showtags": false
 },
 "nbformat": 4,
 "nbformat_minor": 5
}
