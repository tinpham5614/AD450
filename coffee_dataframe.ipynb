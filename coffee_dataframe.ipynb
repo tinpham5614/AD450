{
 "cells": [
  {
   "cell_type": "markdown",
   "id": "8ecfaaad-99ab-4241-ab8e-3509969a844d",
   "metadata": {
    "tags": []
   },
   "source": [
    "***Create the DataFrame:***\n",
    "\n",
    "Construct a DataFrame named coffee_sales.\n",
    "\n",
    "Use the following row and column names with the provided sales data:\n",
    "\n",
    "|           | Americano | Latte | Espresso | Cappuccino |\n",
    "|----------:|:---------:|:-----:|:--------:|:----------:|\n",
    "|  **2021 Sales**    |  562  |   812    |    426     | 852 |\n",
    "|  **2022 Sales**    |  623  |   925    |    384     | 756 |\n"
   ]
  },
  {
   "cell_type": "code",
   "execution_count": 115,
   "id": "defb7bba-4533-42fe-8940-5f87c5605a8a",
   "metadata": {
    "tags": []
   },
   "outputs": [],
   "source": [
    "import pandas as pd"
   ]
  },
  {
   "cell_type": "code",
   "execution_count": 116,
   "id": "656106e9-5cff-4737-9dcf-73ce10cae343",
   "metadata": {
    "tags": []
   },
   "outputs": [
    {
     "name": "stdout",
     "output_type": "stream",
     "text": [
      "            Americano  Latte  Espresso  Cappuccino  Frappuccino\n",
      "2021 Sales        562    812       426         852          800\n",
      "2022 Sales        623    925       384         756          950\n"
     ]
    }
   ],
   "source": [
    "# Create the DataFrame:\n",
    "data = {\n",
    "    'Americano': [562, 623],\n",
    "    'Latte': [812, 925],\n",
    "    'Espresso': [426, 384],\n",
    "    'Cappuccino': [852, 756],\n",
    "    'Frappuccino': [800, 950],\n",
    "}\n",
    "df = pd.DataFrame(data, index=['2021 Sales', '2022 Sales'])\n",
    "print(df)"
   ]
  },
  {
   "cell_type": "code",
   "execution_count": 117,
   "id": "274740e1-184a-4b9b-88d8-c68b112c8a24",
   "metadata": {
    "tags": []
   },
   "outputs": [
    {
     "data": {
      "text/plain": [
       "Americano      1185\n",
       "Latte          1737\n",
       "Espresso        810\n",
       "Cappuccino     1608\n",
       "Frappuccino    1750\n",
       "dtype: int64"
      ]
     },
     "execution_count": 117,
     "metadata": {},
     "output_type": "execute_result"
    }
   ],
   "source": [
    "#calculate the total sales for each beverage across the two years.\n",
    "df.sum() "
   ]
  },
  {
   "cell_type": "code",
   "execution_count": 118,
   "id": "30bb7acc-c067-43a5-8d39-e914ffff6dff",
   "metadata": {},
   "outputs": [
    {
     "name": "stdout",
     "output_type": "stream",
     "text": [
      "Americano      10.85\n",
      "Latte          13.92\n",
      "Espresso       -9.86\n",
      "Cappuccino    -11.27\n",
      "Frappuccino    18.75\n",
      "dtype: float64\n"
     ]
    }
   ],
   "source": [
    "# Using Pandas, find the year-over-year growth rate for each beverage type.\n",
    "# formula: ((2022 - 2021) / 2021) * 100\n",
    "# 2021 sales\n",
    "sales_2021 = df.iloc[0]\n",
    "\n",
    "# 2022 sales\n",
    "sales_2022 = df.iloc[1]\n",
    "\n",
    "# growth\n",
    "growth_rate = ((sales_2022 - sales_2021) / sales_2021) * 100\n",
    "print(round(growth_rate, 2))\n",
    "\n"
   ]
  },
  {
   "cell_type": "code",
   "execution_count": 119,
   "id": "850e7868-1e92-42ab-9707-66e14c036034",
   "metadata": {
    "tags": []
   },
   "outputs": [
    {
     "name": "stdout",
     "output_type": "stream",
     "text": [
      "Best selling for 2021:  Cappuccino\n",
      "Best selling for 2022:  Frappuccino\n",
      "Least selling for 2021:  Espresso\n",
      "Least selling for 2022:  Espresso\n"
     ]
    }
   ],
   "source": [
    "# Identify the best-selling and least-selling beverage for each year.\n",
    "# Best selling for 2021\n",
    "best_selling_2021 = df.loc['2021 Sales'].idxmax()\n",
    "print(\"Best selling for 2021: \", best_selling_2021)\n",
    "\n",
    "best_selling_2022 = df.loc['2022 Sales'].idxmax()\n",
    "print(\"Best selling for 2022: \", best_selling_2022)\n",
    "\n",
    "least_selling_2021 = df.loc['2021 Sales'].idxmin()\n",
    "print(\"Least selling for 2021: \", least_selling_2021)\n",
    "\n",
    "least_selling_2022 = df.loc['2022 Sales'].idxmin()\n",
    "print(\"Least selling for 2022: \", least_selling_2022)\n"
   ]
  },
  {
   "cell_type": "markdown",
   "id": "c797f961-fe72-44a9-ac69-33cab102848c",
   "metadata": {
    "tags": []
   },
   "source": [
    "***Analysis***\n",
    "\n",
    "The Cappuccino was the best-selling beverage in 2021 with 852 sales. However, in 2022, its sales decreased by 11.27%. \n",
    "In contrast, the Frappuccino beverage became the top-selling beverage with 950 sales, which was an increase of 18.75%.\n",
    "\n",
    "Both in 2021 and 2022, Espresso was the least-selling beverage with 426 and 384 sales, respectively. \n",
    "This marks a 9.86% decrease in sales from the previous year.\n",
    "\n",
    "Overall, customers seem to prefer Frappuccino, and the business should continue promoting Frappuccino to capitalize on its popularity."
   ]
  }
 ],
 "metadata": {
  "kernelspec": {
   "display_name": "Python 3 (ipykernel)",
   "language": "python",
   "name": "python3"
  },
  "language_info": {
   "codemirror_mode": {
    "name": "ipython",
    "version": 3
   },
   "file_extension": ".py",
   "mimetype": "text/x-python",
   "name": "python",
   "nbconvert_exporter": "python",
   "pygments_lexer": "ipython3",
   "version": "3.11.5"
  }
 },
 "nbformat": 4,
 "nbformat_minor": 5
}
